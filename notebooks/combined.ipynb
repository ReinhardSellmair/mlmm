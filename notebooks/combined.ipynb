{
 "cells": [
  {
   "cell_type": "markdown",
   "metadata": {},
   "source": [
    "# Analyse performance for different datasets and retraining strategies\n",
    "\n",
    "- Dataset generation\n",
    "    - Steady\n",
    "    - Distribution Shift\n",
    "    - Linear Coefficients\n",
    "    - Black Swan\n",
    "- Model retraining\n",
    "    - None\n",
    "    - Whole Dataset\n",
    "    - Window\n",
    "- Training Set Analysis\n",
    "    - Standard deviation difference (normalize features)\n",
    "    - Feature importance difference\n",
    "\n"
   ]
  },
  {
   "cell_type": "code",
   "execution_count": 1,
   "metadata": {},
   "outputs": [],
   "source": [
    "from xgboost import XGBRegressor\n",
    "from sklearn.metrics import mean_squared_error\n",
    "import pandas as pd\n",
    "from plotly.express import line, box"
   ]
  },
  {
   "cell_type": "code",
   "execution_count": 2,
   "metadata": {},
   "outputs": [],
   "source": [
    "import sys\n",
    "\n",
    "sys.path.append('../src')\n",
    "\n",
    "from feature_generation import Importance_evo, FeatureGenerator, target_fcn\n",
    "from model_tuning import ModelTrainer, neg_mse\n",
    "from analysis import agg_feature, get_feature_importance, get_feature_cols"
   ]
  },
  {
   "cell_type": "code",
   "execution_count": 3,
   "metadata": {},
   "outputs": [],
   "source": [
    "# parameters\n",
    "\n",
    "# number of steps\n",
    "n_steps = 100\n",
    "\n",
    "# number of training steps\n",
    "training_steps = 20\n",
    "\n",
    "# regression model\n",
    "model = XGBRegressor()\n",
    "\n",
    "# feature generation settings\n",
    "fg_settings = {'Steady': {'importance_evo': Importance_evo(const=10, linear=0, seasonal=0), \n",
    "                          'dist_drift': False, \n",
    "                          'n_disturbances': 0, \n",
    "                          'n_black_swans': 0, \n",
    "                          'black_swan_impact': 0.75}, \n",
    "               'Linear Coefs': {'importance_evo': Importance_evo(const=0, linear=10, seasonal=0), \n",
    "                                'dist_drift': False, \n",
    "                                'n_disturbances': 0, \n",
    "                                'n_black_swans': 0, \n",
    "                                'black_swan_impact': 0.75}, \n",
    "               'Dist Shift': {'importance_evo': Importance_evo(const=10, linear=0, seasonal=0), \n",
    "                              'dist_drift': True, \n",
    "                              'n_disturbances': 0, \n",
    "                              'n_black_swans': 0, \n",
    "                              'black_swan_impact': 0.75}, \n",
    "               'Black Swan': {'importance_evo': Importance_evo(const=10, linear=0, seasonal=0), \n",
    "                              'dist_drift': False, \n",
    "                              'n_disturbances': 0, \n",
    "                              'n_black_swans': 1, \n",
    "                              'black_swan_impact': 0.75}} \n",
    "\n",
    "# model retraining settings\n",
    "retraining_settings = {'None': {'data_selection': 'all', 'retrain_trigger': 'off', 'model_selection': 'new'}, \n",
    "                       'All Data': {'data_selection': 'all', 'retrain_trigger': 'steps', 'model_selection': 'new'}, \n",
    "                       'Window': {'data_selection': 'window', 'retrain_trigger': 'steps', 'model_selection': 'new'}}"
   ]
  },
  {
   "cell_type": "code",
   "execution_count": 4,
   "metadata": {},
   "outputs": [],
   "source": [
    "# generate features\n",
    "features = dict()\n",
    "for fg_name, fg_setting in fg_settings.items():\n",
    "    # initialize feature generator\n",
    "    fg = FeatureGenerator(imp_evo=fg_setting['importance_evo'], dist_drift=fg_setting['dist_drift'], \n",
    "                          n_disturbances=fg_setting['n_disturbances'], n_black_swans=fg_setting['n_black_swans'], \n",
    "                          black_swan_impact=fg_setting['black_swan_impact'])\n",
    "    # generate features\n",
    "    fg.generate(n_steps, target_fcn)\n",
    "\n",
    "    # convert features to dataframe\n",
    "    features[fg_name] = fg.to_df()"
   ]
  },
  {
   "cell_type": "code",
   "execution_count": 5,
   "metadata": {},
   "outputs": [
    {
     "data": {
      "text/html": [
       "<div>\n",
       "<style scoped>\n",
       "    .dataframe tbody tr th:only-of-type {\n",
       "        vertical-align: middle;\n",
       "    }\n",
       "\n",
       "    .dataframe tbody tr th {\n",
       "        vertical-align: top;\n",
       "    }\n",
       "\n",
       "    .dataframe thead th {\n",
       "        text-align: right;\n",
       "    }\n",
       "</style>\n",
       "<table border=\"1\" class=\"dataframe\">\n",
       "  <thead>\n",
       "    <tr style=\"text-align: right;\">\n",
       "      <th></th>\n",
       "      <th>step</th>\n",
       "      <th>mse</th>\n",
       "      <th>scenario</th>\n",
       "      <th>retraining</th>\n",
       "    </tr>\n",
       "  </thead>\n",
       "  <tbody>\n",
       "    <tr>\n",
       "      <th>0</th>\n",
       "      <td>0</td>\n",
       "      <td>0.000115</td>\n",
       "      <td>Steady</td>\n",
       "      <td>None</td>\n",
       "    </tr>\n",
       "    <tr>\n",
       "      <th>1</th>\n",
       "      <td>1</td>\n",
       "      <td>0.000152</td>\n",
       "      <td>Steady</td>\n",
       "      <td>None</td>\n",
       "    </tr>\n",
       "    <tr>\n",
       "      <th>2</th>\n",
       "      <td>2</td>\n",
       "      <td>0.000136</td>\n",
       "      <td>Steady</td>\n",
       "      <td>None</td>\n",
       "    </tr>\n",
       "    <tr>\n",
       "      <th>3</th>\n",
       "      <td>3</td>\n",
       "      <td>0.000119</td>\n",
       "      <td>Steady</td>\n",
       "      <td>None</td>\n",
       "    </tr>\n",
       "    <tr>\n",
       "      <th>4</th>\n",
       "      <td>4</td>\n",
       "      <td>0.000114</td>\n",
       "      <td>Steady</td>\n",
       "      <td>None</td>\n",
       "    </tr>\n",
       "  </tbody>\n",
       "</table>\n",
       "</div>"
      ],
      "text/plain": [
       "   step       mse scenario retraining\n",
       "0     0  0.000115   Steady       None\n",
       "1     1  0.000152   Steady       None\n",
       "2     2  0.000136   Steady       None\n",
       "3     3  0.000119   Steady       None\n",
       "4     4  0.000114   Steady       None"
      ]
     },
     "execution_count": 5,
     "metadata": {},
     "output_type": "execute_result"
    }
   ],
   "source": [
    "# train models\n",
    "df_lst = []\n",
    "for retraining_name, retraining_setting in retraining_settings.items():\n",
    "    for fg_name, fg_df in features.items():\n",
    "        # initialize model training\n",
    "        mt = ModelTrainer(data_selection=retraining_setting['data_selection'], \n",
    "                          retrain_trigger=retraining_setting['retrain_trigger'], \n",
    "                          model_selection=retraining_setting['model_selection'])\n",
    "        # train model\n",
    "        train_stats_df = mt.train_models(fg_df, training_steps, model, neg_mse)\n",
    "\n",
    "        # get average mse per step\n",
    "        eval_df = (train_stats_df\n",
    "                   .groupby('step')\n",
    "                   .apply(lambda x: mean_squared_error(x['target'], x['best_pred']), include_groups=False)\n",
    "                   .rename('mse')\n",
    "                   .reset_index())\n",
    "        \n",
    "        eval_df['scenario'] = fg_name\n",
    "        eval_df['retraining'] = retraining_name\n",
    "\n",
    "        df_lst.append(eval_df)\n",
    "\n",
    "eval_df = pd.concat(df_lst, ignore_index=True)  \n",
    "eval_df.head()"
   ]
  },
  {
   "cell_type": "code",
   "execution_count": 24,
   "metadata": {},
   "outputs": [
    {
     "data": {
      "application/vnd.plotly.v1+json": {
       "config": {
        "plotlyServerURL": "https://plot.ly"
       },
       "data": [
        {
         "hovertemplate": "retraining=None<br>step=%{x}<br>mse=%{y}<extra></extra>",
         "legendgroup": "None",
         "line": {
          "color": "#636efa",
          "dash": "solid"
         },
         "marker": {
          "symbol": "circle"
         },
         "mode": "lines",
         "name": "None",
         "orientation": "v",
         "showlegend": true,
         "type": "scatter",
         "x": [
          0,
          1,
          2,
          3,
          4,
          5,
          6,
          7,
          8,
          9,
          10,
          11,
          12,
          13,
          14,
          15,
          16,
          17,
          18,
          19,
          20,
          21,
          22,
          23,
          24,
          25,
          26,
          27,
          28,
          29,
          30,
          31,
          32,
          33,
          34,
          35,
          36,
          37,
          38,
          39,
          40,
          41,
          42,
          43,
          44,
          45,
          46,
          47,
          48,
          49,
          50,
          51,
          52,
          53,
          54,
          55,
          56,
          57,
          58,
          59,
          60,
          61,
          62,
          63,
          64,
          65,
          66,
          67,
          68,
          69,
          70,
          71,
          72,
          73,
          74,
          75,
          76,
          77,
          78,
          79,
          80,
          81,
          82,
          83,
          84,
          85,
          86,
          87,
          88,
          89,
          90,
          91,
          92,
          93,
          94,
          95,
          96,
          97,
          98,
          99
         ],
         "xaxis": "x",
         "y": [
          0.00011452531170938625,
          0.00015171023031396746,
          0.00013553390102521897,
          0.00011857478549724184,
          0.00011410635589620314,
          0.0001257007415389318,
          0.00011289948224686133,
          0.0001814290239465806,
          0.00011982025078591149,
          0.00012547989908721755,
          0.00011765760097600208,
          0.00010459751501300886,
          0.00012838019982808403,
          0.00010086951209252001,
          0.0001536035345801677,
          0.00011567211539675601,
          0.0000961245670832589,
          0.0001648313074743147,
          0.00010481073682216407,
          0.0000974454850372926,
          0.07081558637932757,
          0.06465222342111128,
          0.06825209424196861,
          0.06858770719545532,
          0.05734750932024327,
          0.04475156976349307,
          0.06426768352237339,
          0.06540573818638706,
          0.054314165491822795,
          0.05383873356911859,
          0.06435381896674724,
          0.06822525972448265,
          0.06548762288139222,
          0.048026274713246365,
          0.06436429181208124,
          0.07866991692303539,
          0.07261068621819178,
          0.07794252020738136,
          0.07091879056801981,
          0.07328076420622338,
          0.06975826617628832,
          0.07735517920603387,
          0.06525398123230153,
          0.06886625081924141,
          0.07576907076730287,
          0.06492299560380435,
          0.07392799184577836,
          0.07106260512790188,
          0.059733213301701456,
          0.06359702149856704,
          0.06517779507440893,
          0.07027530560322749,
          0.05311597148240099,
          0.05447740350736631,
          0.06410225706907868,
          0.04640207360107323,
          0.05923375531977403,
          0.05036704009314375,
          0.07654694071474437,
          0.06638585290860675,
          0.06456233895118847,
          0.07215198456644212,
          0.06766295853638846,
          0.08134123355462329,
          0.048551071229048316,
          0.07086919875732342,
          0.10413658759761255,
          0.06737645869033242,
          0.0688556679420026,
          0.06474046611704914,
          0.07083277457161043,
          0.06389852376906557,
          0.06958376896021676,
          0.05778654480248928,
          0.06022129315097385,
          0.06290058000960858,
          0.06495409735331695,
          0.06759763188908044,
          0.06583157514084689,
          0.06955963675164155,
          0.062041058563457485,
          0.07265247559351416,
          0.0663155235593294,
          0.07354419133832144,
          0.06262579688073891,
          0.058940266921451163,
          0.06333414471362014,
          0.05094736766171422,
          0.06629673433340857,
          0.06395030258047442,
          0.07092447517459925,
          0.06125800714196432,
          0.061212098131441905,
          0.07290506172766,
          0.05637588973623944,
          0.06192763098453622,
          0.060892633451368076,
          0.08291670086669294,
          0.054050049940971956,
          0.06450023249261219
         ],
         "yaxis": "y"
        },
        {
         "hovertemplate": "retraining=All Data<br>step=%{x}<br>mse=%{y}<extra></extra>",
         "legendgroup": "All Data",
         "line": {
          "color": "#EF553B",
          "dash": "solid"
         },
         "marker": {
          "symbol": "circle"
         },
         "mode": "lines",
         "name": "All Data",
         "orientation": "v",
         "showlegend": true,
         "type": "scatter",
         "x": [
          0,
          1,
          2,
          3,
          4,
          5,
          6,
          7,
          8,
          9,
          10,
          11,
          12,
          13,
          14,
          15,
          16,
          17,
          18,
          19,
          20,
          21,
          22,
          23,
          24,
          25,
          26,
          27,
          28,
          29,
          30,
          31,
          32,
          33,
          34,
          35,
          36,
          37,
          38,
          39,
          40,
          41,
          42,
          43,
          44,
          45,
          46,
          47,
          48,
          49,
          50,
          51,
          52,
          53,
          54,
          55,
          56,
          57,
          58,
          59,
          60,
          61,
          62,
          63,
          64,
          65,
          66,
          67,
          68,
          69,
          70,
          71,
          72,
          73,
          74,
          75,
          76,
          77,
          78,
          79,
          80,
          81,
          82,
          83,
          84,
          85,
          86,
          87,
          88,
          89,
          90,
          91,
          92,
          93,
          94,
          95,
          96,
          97,
          98,
          99
         ],
         "xaxis": "x",
         "y": [
          0.00011452531170938625,
          0.00015171023031396746,
          0.00013553390102521897,
          0.00011857478549724184,
          0.00011410635589620314,
          0.0001257007415389318,
          0.00011289948224686133,
          0.0001814290239465806,
          0.00011982025078591149,
          0.00012547989908721755,
          0.00011765760097600208,
          0.00010459751501300886,
          0.00012838019982808403,
          0.00010086951209252001,
          0.0001536035345801677,
          0.00011567211539675601,
          0.0000961245670832589,
          0.0001648313074743147,
          0.00010481073682216407,
          0.0000974454850372926,
          0.07081558637932757,
          0.06527795500679039,
          0.0660383733976903,
          0.059927061598874155,
          0.07358071997142744,
          0.058016134767671056,
          0.05274540118753692,
          0.057310078035178534,
          0.06022377465734477,
          0.04156461492449877,
          0.05509591447235359,
          0.06326124100140378,
          0.059937863882863346,
          0.055372045105118416,
          0.04273706590963228,
          0.06791070697297849,
          0.0602681773051999,
          0.052764419718580424,
          0.050934406346425716,
          0.05762393366276986,
          0.055811600453073554,
          0.06411712006415783,
          0.04917943401556749,
          0.05652185116738197,
          0.058585599283623085,
          0.051460185268301956,
          0.05612547480126611,
          0.06228844621373429,
          0.04648219973520418,
          0.05055857321351528,
          0.060489746994251435,
          0.06365954089646113,
          0.06170956696260398,
          0.04935963799935849,
          0.04606619242061392,
          0.040128281504951034,
          0.04934634994466039,
          0.056423854137502706,
          0.06045708665966367,
          0.05371135743654154,
          0.04739638420117573,
          0.04447288503457703,
          0.05398051396386329,
          0.06373849613985642,
          0.04858392195148688,
          0.049689643582541784,
          0.04247212321323946,
          0.05468192701453365,
          0.04808290443213104,
          0.03749455014522889,
          0.044736100930192216,
          0.04818594472124992,
          0.0504847333190168,
          0.0444785908033409,
          0.0416827914450473,
          0.0416630739615845,
          0.05841192133727978,
          0.044240690452751405,
          0.04397402483029009,
          0.042308737508301254,
          0.04650910433522488,
          0.050941381373432036,
          0.05706223350011705,
          0.044155385672004076,
          0.04306197888155196,
          0.034920380632335955,
          0.04946227093843901,
          0.043173117369984956,
          0.04673441096639082,
          0.05019567043767254,
          0.050218664196582594,
          0.04613343179681026,
          0.04938449107171273,
          0.04787797804809497,
          0.056507356178296934,
          0.04800828617658663,
          0.041960362776735524,
          0.06442431174777309,
          0.049419124940156024,
          0.03835201862342844
         ],
         "yaxis": "y"
        },
        {
         "hovertemplate": "retraining=Window<br>step=%{x}<br>mse=%{y}<extra></extra>",
         "legendgroup": "Window",
         "line": {
          "color": "#00cc96",
          "dash": "solid"
         },
         "marker": {
          "symbol": "circle"
         },
         "mode": "lines",
         "name": "Window",
         "orientation": "v",
         "showlegend": true,
         "type": "scatter",
         "x": [
          0,
          1,
          2,
          3,
          4,
          5,
          6,
          7,
          8,
          9,
          10,
          11,
          12,
          13,
          14,
          15,
          16,
          17,
          18,
          19,
          20,
          21,
          22,
          23,
          24,
          25,
          26,
          27,
          28,
          29,
          30,
          31,
          32,
          33,
          34,
          35,
          36,
          37,
          38,
          39,
          40,
          41,
          42,
          43,
          44,
          45,
          46,
          47,
          48,
          49,
          50,
          51,
          52,
          53,
          54,
          55,
          56,
          57,
          58,
          59,
          60,
          61,
          62,
          63,
          64,
          65,
          66,
          67,
          68,
          69,
          70,
          71,
          72,
          73,
          74,
          75,
          76,
          77,
          78,
          79,
          80,
          81,
          82,
          83,
          84,
          85,
          86,
          87,
          88,
          89,
          90,
          91,
          92,
          93,
          94,
          95,
          96,
          97,
          98,
          99
         ],
         "xaxis": "x",
         "y": [
          0.06969583990818429,
          0.07095838414980823,
          0.06372852737140046,
          0.00007912175341676508,
          0.00009034342923247529,
          0.00008140165696374763,
          0.00004060092478769481,
          0.00008095224869870666,
          0.00008024935458420375,
          0.00007992057213415332,
          0.00007157895066534401,
          0.00009218455767602473,
          0.000035450233563648085,
          0.00006596266628561319,
          0.00007561084559234837,
          0.00007389111821496943,
          0.0001176794223883853,
          0.0000891793713502017,
          0.000071535051900567,
          0.000058569377924405035,
          0.07085572076599164,
          0.07089293313800038,
          0.07516633808065791,
          0.0721594202844681,
          0.06191500995844756,
          0.049670830375899484,
          0.0632822285663963,
          0.0539962493421514,
          0.058910658437515924,
          0.06840793406229854,
          0.06332115281699421,
          0.06848130665437897,
          0.06370367615361089,
          0.07037951155158031,
          0.047968903961706444,
          0.0948089179640289,
          0.07307078204807839,
          0.06970138148503759,
          0.07154854210420479,
          0.10208525574849889,
          0.060816942888286867,
          0.07792918293296565,
          0.062034264150486046,
          0.07322177554622997,
          0.06446381543867412,
          0.08543352597518718,
          0.0749516934723951,
          0.07064006953217851,
          0.06468764072503029,
          0.08149850085720664,
          0.07369396704852763,
          0.06696162563564877,
          0.08111931805798533,
          0.06787113893831935,
          0.06969433481685444,
          0.06182426668649803,
          0.06206037770455162,
          0.06021957648011666,
          0.06318824818047745,
          0.0713399786573496,
          0.05858150109551359,
          0.07546904183515676,
          0.08259255338869367,
          0.07174204854994373,
          0.05337578359280178,
          0.05830666470630198,
          0.07775939024859549,
          0.07274225604775417,
          0.0686978352840947,
          0.05246312656608735,
          0.061777928492184914,
          0.048595956498615915,
          0.0731765698360846,
          0.05587141181887669,
          0.058167417329143156,
          0.05865991978354096,
          0.06789393964784017,
          0.06997075463899335,
          0.055033990251743097,
          0.06314459694938683,
          0.05927971972327973,
          0.058878446633706644,
          0.0649293635354256,
          0.06425574063318332,
          0.05419449074269049,
          0.053624894565151,
          0.07377240300363988,
          0.057628652116078996,
          0.0704447992727222,
          0.08026919517367699,
          0.05503871508030978,
          0.07236891023743786,
          0.06213627688170611,
          0.06389974037822835,
          0.049736193546071526,
          0.05882236671687346,
          0.06438813294588842,
          0.08027885426285049,
          0.08754927960777328,
          0.05064601366170305
         ],
         "yaxis": "y"
        }
       ],
       "layout": {
        "legend": {
         "title": {
          "text": "Retraining"
         },
         "tracegroupgap": 0
        },
        "template": {
         "data": {
          "bar": [
           {
            "error_x": {
             "color": "#2a3f5f"
            },
            "error_y": {
             "color": "#2a3f5f"
            },
            "marker": {
             "line": {
              "color": "#E5ECF6",
              "width": 0.5
             },
             "pattern": {
              "fillmode": "overlay",
              "size": 10,
              "solidity": 0.2
             }
            },
            "type": "bar"
           }
          ],
          "barpolar": [
           {
            "marker": {
             "line": {
              "color": "#E5ECF6",
              "width": 0.5
             },
             "pattern": {
              "fillmode": "overlay",
              "size": 10,
              "solidity": 0.2
             }
            },
            "type": "barpolar"
           }
          ],
          "carpet": [
           {
            "aaxis": {
             "endlinecolor": "#2a3f5f",
             "gridcolor": "white",
             "linecolor": "white",
             "minorgridcolor": "white",
             "startlinecolor": "#2a3f5f"
            },
            "baxis": {
             "endlinecolor": "#2a3f5f",
             "gridcolor": "white",
             "linecolor": "white",
             "minorgridcolor": "white",
             "startlinecolor": "#2a3f5f"
            },
            "type": "carpet"
           }
          ],
          "choropleth": [
           {
            "colorbar": {
             "outlinewidth": 0,
             "ticks": ""
            },
            "type": "choropleth"
           }
          ],
          "contour": [
           {
            "colorbar": {
             "outlinewidth": 0,
             "ticks": ""
            },
            "colorscale": [
             [
              0,
              "#0d0887"
             ],
             [
              0.1111111111111111,
              "#46039f"
             ],
             [
              0.2222222222222222,
              "#7201a8"
             ],
             [
              0.3333333333333333,
              "#9c179e"
             ],
             [
              0.4444444444444444,
              "#bd3786"
             ],
             [
              0.5555555555555556,
              "#d8576b"
             ],
             [
              0.6666666666666666,
              "#ed7953"
             ],
             [
              0.7777777777777778,
              "#fb9f3a"
             ],
             [
              0.8888888888888888,
              "#fdca26"
             ],
             [
              1,
              "#f0f921"
             ]
            ],
            "type": "contour"
           }
          ],
          "contourcarpet": [
           {
            "colorbar": {
             "outlinewidth": 0,
             "ticks": ""
            },
            "type": "contourcarpet"
           }
          ],
          "heatmap": [
           {
            "colorbar": {
             "outlinewidth": 0,
             "ticks": ""
            },
            "colorscale": [
             [
              0,
              "#0d0887"
             ],
             [
              0.1111111111111111,
              "#46039f"
             ],
             [
              0.2222222222222222,
              "#7201a8"
             ],
             [
              0.3333333333333333,
              "#9c179e"
             ],
             [
              0.4444444444444444,
              "#bd3786"
             ],
             [
              0.5555555555555556,
              "#d8576b"
             ],
             [
              0.6666666666666666,
              "#ed7953"
             ],
             [
              0.7777777777777778,
              "#fb9f3a"
             ],
             [
              0.8888888888888888,
              "#fdca26"
             ],
             [
              1,
              "#f0f921"
             ]
            ],
            "type": "heatmap"
           }
          ],
          "heatmapgl": [
           {
            "colorbar": {
             "outlinewidth": 0,
             "ticks": ""
            },
            "colorscale": [
             [
              0,
              "#0d0887"
             ],
             [
              0.1111111111111111,
              "#46039f"
             ],
             [
              0.2222222222222222,
              "#7201a8"
             ],
             [
              0.3333333333333333,
              "#9c179e"
             ],
             [
              0.4444444444444444,
              "#bd3786"
             ],
             [
              0.5555555555555556,
              "#d8576b"
             ],
             [
              0.6666666666666666,
              "#ed7953"
             ],
             [
              0.7777777777777778,
              "#fb9f3a"
             ],
             [
              0.8888888888888888,
              "#fdca26"
             ],
             [
              1,
              "#f0f921"
             ]
            ],
            "type": "heatmapgl"
           }
          ],
          "histogram": [
           {
            "marker": {
             "pattern": {
              "fillmode": "overlay",
              "size": 10,
              "solidity": 0.2
             }
            },
            "type": "histogram"
           }
          ],
          "histogram2d": [
           {
            "colorbar": {
             "outlinewidth": 0,
             "ticks": ""
            },
            "colorscale": [
             [
              0,
              "#0d0887"
             ],
             [
              0.1111111111111111,
              "#46039f"
             ],
             [
              0.2222222222222222,
              "#7201a8"
             ],
             [
              0.3333333333333333,
              "#9c179e"
             ],
             [
              0.4444444444444444,
              "#bd3786"
             ],
             [
              0.5555555555555556,
              "#d8576b"
             ],
             [
              0.6666666666666666,
              "#ed7953"
             ],
             [
              0.7777777777777778,
              "#fb9f3a"
             ],
             [
              0.8888888888888888,
              "#fdca26"
             ],
             [
              1,
              "#f0f921"
             ]
            ],
            "type": "histogram2d"
           }
          ],
          "histogram2dcontour": [
           {
            "colorbar": {
             "outlinewidth": 0,
             "ticks": ""
            },
            "colorscale": [
             [
              0,
              "#0d0887"
             ],
             [
              0.1111111111111111,
              "#46039f"
             ],
             [
              0.2222222222222222,
              "#7201a8"
             ],
             [
              0.3333333333333333,
              "#9c179e"
             ],
             [
              0.4444444444444444,
              "#bd3786"
             ],
             [
              0.5555555555555556,
              "#d8576b"
             ],
             [
              0.6666666666666666,
              "#ed7953"
             ],
             [
              0.7777777777777778,
              "#fb9f3a"
             ],
             [
              0.8888888888888888,
              "#fdca26"
             ],
             [
              1,
              "#f0f921"
             ]
            ],
            "type": "histogram2dcontour"
           }
          ],
          "mesh3d": [
           {
            "colorbar": {
             "outlinewidth": 0,
             "ticks": ""
            },
            "type": "mesh3d"
           }
          ],
          "parcoords": [
           {
            "line": {
             "colorbar": {
              "outlinewidth": 0,
              "ticks": ""
             }
            },
            "type": "parcoords"
           }
          ],
          "pie": [
           {
            "automargin": true,
            "type": "pie"
           }
          ],
          "scatter": [
           {
            "fillpattern": {
             "fillmode": "overlay",
             "size": 10,
             "solidity": 0.2
            },
            "type": "scatter"
           }
          ],
          "scatter3d": [
           {
            "line": {
             "colorbar": {
              "outlinewidth": 0,
              "ticks": ""
             }
            },
            "marker": {
             "colorbar": {
              "outlinewidth": 0,
              "ticks": ""
             }
            },
            "type": "scatter3d"
           }
          ],
          "scattercarpet": [
           {
            "marker": {
             "colorbar": {
              "outlinewidth": 0,
              "ticks": ""
             }
            },
            "type": "scattercarpet"
           }
          ],
          "scattergeo": [
           {
            "marker": {
             "colorbar": {
              "outlinewidth": 0,
              "ticks": ""
             }
            },
            "type": "scattergeo"
           }
          ],
          "scattergl": [
           {
            "marker": {
             "colorbar": {
              "outlinewidth": 0,
              "ticks": ""
             }
            },
            "type": "scattergl"
           }
          ],
          "scattermapbox": [
           {
            "marker": {
             "colorbar": {
              "outlinewidth": 0,
              "ticks": ""
             }
            },
            "type": "scattermapbox"
           }
          ],
          "scatterpolar": [
           {
            "marker": {
             "colorbar": {
              "outlinewidth": 0,
              "ticks": ""
             }
            },
            "type": "scatterpolar"
           }
          ],
          "scatterpolargl": [
           {
            "marker": {
             "colorbar": {
              "outlinewidth": 0,
              "ticks": ""
             }
            },
            "type": "scatterpolargl"
           }
          ],
          "scatterternary": [
           {
            "marker": {
             "colorbar": {
              "outlinewidth": 0,
              "ticks": ""
             }
            },
            "type": "scatterternary"
           }
          ],
          "surface": [
           {
            "colorbar": {
             "outlinewidth": 0,
             "ticks": ""
            },
            "colorscale": [
             [
              0,
              "#0d0887"
             ],
             [
              0.1111111111111111,
              "#46039f"
             ],
             [
              0.2222222222222222,
              "#7201a8"
             ],
             [
              0.3333333333333333,
              "#9c179e"
             ],
             [
              0.4444444444444444,
              "#bd3786"
             ],
             [
              0.5555555555555556,
              "#d8576b"
             ],
             [
              0.6666666666666666,
              "#ed7953"
             ],
             [
              0.7777777777777778,
              "#fb9f3a"
             ],
             [
              0.8888888888888888,
              "#fdca26"
             ],
             [
              1,
              "#f0f921"
             ]
            ],
            "type": "surface"
           }
          ],
          "table": [
           {
            "cells": {
             "fill": {
              "color": "#EBF0F8"
             },
             "line": {
              "color": "white"
             }
            },
            "header": {
             "fill": {
              "color": "#C8D4E3"
             },
             "line": {
              "color": "white"
             }
            },
            "type": "table"
           }
          ]
         },
         "layout": {
          "annotationdefaults": {
           "arrowcolor": "#2a3f5f",
           "arrowhead": 0,
           "arrowwidth": 1
          },
          "autotypenumbers": "strict",
          "coloraxis": {
           "colorbar": {
            "outlinewidth": 0,
            "ticks": ""
           }
          },
          "colorscale": {
           "diverging": [
            [
             0,
             "#8e0152"
            ],
            [
             0.1,
             "#c51b7d"
            ],
            [
             0.2,
             "#de77ae"
            ],
            [
             0.3,
             "#f1b6da"
            ],
            [
             0.4,
             "#fde0ef"
            ],
            [
             0.5,
             "#f7f7f7"
            ],
            [
             0.6,
             "#e6f5d0"
            ],
            [
             0.7,
             "#b8e186"
            ],
            [
             0.8,
             "#7fbc41"
            ],
            [
             0.9,
             "#4d9221"
            ],
            [
             1,
             "#276419"
            ]
           ],
           "sequential": [
            [
             0,
             "#0d0887"
            ],
            [
             0.1111111111111111,
             "#46039f"
            ],
            [
             0.2222222222222222,
             "#7201a8"
            ],
            [
             0.3333333333333333,
             "#9c179e"
            ],
            [
             0.4444444444444444,
             "#bd3786"
            ],
            [
             0.5555555555555556,
             "#d8576b"
            ],
            [
             0.6666666666666666,
             "#ed7953"
            ],
            [
             0.7777777777777778,
             "#fb9f3a"
            ],
            [
             0.8888888888888888,
             "#fdca26"
            ],
            [
             1,
             "#f0f921"
            ]
           ],
           "sequentialminus": [
            [
             0,
             "#0d0887"
            ],
            [
             0.1111111111111111,
             "#46039f"
            ],
            [
             0.2222222222222222,
             "#7201a8"
            ],
            [
             0.3333333333333333,
             "#9c179e"
            ],
            [
             0.4444444444444444,
             "#bd3786"
            ],
            [
             0.5555555555555556,
             "#d8576b"
            ],
            [
             0.6666666666666666,
             "#ed7953"
            ],
            [
             0.7777777777777778,
             "#fb9f3a"
            ],
            [
             0.8888888888888888,
             "#fdca26"
            ],
            [
             1,
             "#f0f921"
            ]
           ]
          },
          "colorway": [
           "#636efa",
           "#EF553B",
           "#00cc96",
           "#ab63fa",
           "#FFA15A",
           "#19d3f3",
           "#FF6692",
           "#B6E880",
           "#FF97FF",
           "#FECB52"
          ],
          "font": {
           "color": "#2a3f5f"
          },
          "geo": {
           "bgcolor": "white",
           "lakecolor": "white",
           "landcolor": "#E5ECF6",
           "showlakes": true,
           "showland": true,
           "subunitcolor": "white"
          },
          "hoverlabel": {
           "align": "left"
          },
          "hovermode": "closest",
          "mapbox": {
           "style": "light"
          },
          "paper_bgcolor": "white",
          "plot_bgcolor": "#E5ECF6",
          "polar": {
           "angularaxis": {
            "gridcolor": "white",
            "linecolor": "white",
            "ticks": ""
           },
           "bgcolor": "#E5ECF6",
           "radialaxis": {
            "gridcolor": "white",
            "linecolor": "white",
            "ticks": ""
           }
          },
          "scene": {
           "xaxis": {
            "backgroundcolor": "#E5ECF6",
            "gridcolor": "white",
            "gridwidth": 2,
            "linecolor": "white",
            "showbackground": true,
            "ticks": "",
            "zerolinecolor": "white"
           },
           "yaxis": {
            "backgroundcolor": "#E5ECF6",
            "gridcolor": "white",
            "gridwidth": 2,
            "linecolor": "white",
            "showbackground": true,
            "ticks": "",
            "zerolinecolor": "white"
           },
           "zaxis": {
            "backgroundcolor": "#E5ECF6",
            "gridcolor": "white",
            "gridwidth": 2,
            "linecolor": "white",
            "showbackground": true,
            "ticks": "",
            "zerolinecolor": "white"
           }
          },
          "shapedefaults": {
           "line": {
            "color": "#2a3f5f"
           }
          },
          "ternary": {
           "aaxis": {
            "gridcolor": "white",
            "linecolor": "white",
            "ticks": ""
           },
           "baxis": {
            "gridcolor": "white",
            "linecolor": "white",
            "ticks": ""
           },
           "bgcolor": "#E5ECF6",
           "caxis": {
            "gridcolor": "white",
            "linecolor": "white",
            "ticks": ""
           }
          },
          "title": {
           "x": 0.05
          },
          "xaxis": {
           "automargin": true,
           "gridcolor": "white",
           "linecolor": "white",
           "ticks": "",
           "title": {
            "standoff": 15
           },
           "zerolinecolor": "white",
           "zerolinewidth": 2
          },
          "yaxis": {
           "automargin": true,
           "gridcolor": "white",
           "linecolor": "white",
           "ticks": "",
           "title": {
            "standoff": 15
           },
           "zerolinecolor": "white",
           "zerolinewidth": 2
          }
         }
        },
        "title": {
         "text": "Steady Scenario"
        },
        "xaxis": {
         "anchor": "y",
         "domain": [
          0,
          1
         ],
         "title": {
          "text": "Step"
         }
        },
        "yaxis": {
         "anchor": "x",
         "domain": [
          0,
          1
         ],
         "title": {
          "text": "MSE"
         }
        }
       }
      }
     },
     "metadata": {},
     "output_type": "display_data"
    }
   ],
   "source": [
    "plot_df = eval_df.loc[eval_df['scenario'] == 'Steady']  \n",
    "fig = line(plot_df, x='step', y='mse', color='retraining', title='Steady Scenario')\n",
    "fig.update_layout(xaxis_title='Step', yaxis_title='MSE', legend_title_text='Retraining')\n",
    "fig.show()"
   ]
  },
  {
   "cell_type": "code",
   "execution_count": 25,
   "metadata": {},
   "outputs": [
    {
     "data": {
      "application/vnd.plotly.v1+json": {
       "config": {
        "plotlyServerURL": "https://plot.ly"
       },
       "data": [
        {
         "hovertemplate": "retraining=None<br>step=%{x}<br>mse=%{y}<extra></extra>",
         "legendgroup": "None",
         "line": {
          "color": "#636efa",
          "dash": "solid"
         },
         "marker": {
          "symbol": "circle"
         },
         "mode": "lines",
         "name": "None",
         "orientation": "v",
         "showlegend": true,
         "type": "scatter",
         "x": [
          0,
          1,
          2,
          3,
          4,
          5,
          6,
          7,
          8,
          9,
          10,
          11,
          12,
          13,
          14,
          15,
          16,
          17,
          18,
          19,
          20,
          21,
          22,
          23,
          24,
          25,
          26,
          27,
          28,
          29,
          30,
          31,
          32,
          33,
          34,
          35,
          36,
          37,
          38,
          39,
          40,
          41,
          42,
          43,
          44,
          45,
          46,
          47,
          48,
          49,
          50,
          51,
          52,
          53,
          54,
          55,
          56,
          57,
          58,
          59,
          60,
          61,
          62,
          63,
          64,
          65,
          66,
          67,
          68,
          69,
          70,
          71,
          72,
          73,
          74,
          75,
          76,
          77,
          78,
          79,
          80,
          81,
          82,
          83,
          84,
          85,
          86,
          87,
          88,
          89,
          90,
          91,
          92,
          93,
          94,
          95,
          96,
          97,
          98,
          99
         ],
         "xaxis": "x",
         "y": [
          0.00011048489272905524,
          0.00013297626541528435,
          0.00015553390100035892,
          0.00013989642633851568,
          0.00016341489216257406,
          0.00015845158994045496,
          0.00013651173632181447,
          0.00021431564394430705,
          0.00017729350736184982,
          0.0001944035555021732,
          0.00015568778137070797,
          0.00014851491462941648,
          0.00020352619184901052,
          0.00019516207275467227,
          0.00018896109005865126,
          0.00017090265958609596,
          0.0001529891383053003,
          0.00014779628360564798,
          0.0001045911834084189,
          0.000059486447627645534,
          0.0645731049626631,
          0.07929715380243851,
          0.06823918939995219,
          0.06316515142619215,
          0.05944034782265717,
          0.05932936895013138,
          0.06366198757180114,
          0.06719195765191965,
          0.07181156600618331,
          0.06619048722604155,
          0.06905712804171722,
          0.07449112849423212,
          0.0740520766580551,
          0.07499810981362495,
          0.08765958373921738,
          0.08347049660884594,
          0.08396542010178298,
          0.11046666591238048,
          0.07320643375747908,
          0.09862543334125805,
          0.10425374375670868,
          0.1095583375756406,
          0.11802279883283225,
          0.10691792908168686,
          0.1273712880291749,
          0.13009502428357284,
          0.1372525062452234,
          0.15830238610679553,
          0.14975405483601734,
          0.14237560263077753,
          0.14571460061848104,
          0.13072090454682117,
          0.10909196841449213,
          0.1527251653669893,
          0.18093823483710808,
          0.15876748924069023,
          0.15492072192836642,
          0.17618912782372076,
          0.19554849979550226,
          0.18792872775495298,
          0.1662644585918527,
          0.1932737765861327,
          0.2109006396367529,
          0.22145712945416496,
          0.19960550760330306,
          0.19305979900233297,
          0.23660201503086498,
          0.20037200777787792,
          0.2380246437465365,
          0.2741963981684683,
          0.26219399050347497,
          0.3281486194877107,
          0.23561153398589055,
          0.2384217799329272,
          0.30373468833639944,
          0.2723618270348243,
          0.2509619283947831,
          0.3208641484633106,
          0.2787263913734782,
          0.30300352743256426,
          0.3064769374221891,
          0.24205640905877632,
          0.30694554608420505,
          0.24288052984118644,
          0.2551726290433228,
          0.26530679499070564,
          0.3665687324768504,
          0.29829529862829773,
          0.33996199456085324,
          0.311396369821758,
          0.41801467376885443,
          0.3421030079542476,
          0.3114570454316289,
          0.2950749776773105,
          0.28195079223851083,
          0.32758238037552556,
          0.28795086912971957,
          0.3473793915563772,
          0.30926851463145444,
          0.34658644499694913
         ],
         "yaxis": "y"
        },
        {
         "hovertemplate": "retraining=All Data<br>step=%{x}<br>mse=%{y}<extra></extra>",
         "legendgroup": "All Data",
         "line": {
          "color": "#EF553B",
          "dash": "solid"
         },
         "marker": {
          "symbol": "circle"
         },
         "mode": "lines",
         "name": "All Data",
         "orientation": "v",
         "showlegend": true,
         "type": "scatter",
         "x": [
          0,
          1,
          2,
          3,
          4,
          5,
          6,
          7,
          8,
          9,
          10,
          11,
          12,
          13,
          14,
          15,
          16,
          17,
          18,
          19,
          20,
          21,
          22,
          23,
          24,
          25,
          26,
          27,
          28,
          29,
          30,
          31,
          32,
          33,
          34,
          35,
          36,
          37,
          38,
          39,
          40,
          41,
          42,
          43,
          44,
          45,
          46,
          47,
          48,
          49,
          50,
          51,
          52,
          53,
          54,
          55,
          56,
          57,
          58,
          59,
          60,
          61,
          62,
          63,
          64,
          65,
          66,
          67,
          68,
          69,
          70,
          71,
          72,
          73,
          74,
          75,
          76,
          77,
          78,
          79,
          80,
          81,
          82,
          83,
          84,
          85,
          86,
          87,
          88,
          89,
          90,
          91,
          92,
          93,
          94,
          95,
          96,
          97,
          98,
          99
         ],
         "xaxis": "x",
         "y": [
          0.00011048489272905524,
          0.00013297626541528435,
          0.00015553390100035892,
          0.00013989642633851568,
          0.00016341489216257406,
          0.00015845158994045496,
          0.00013651173632181447,
          0.00021431564394430705,
          0.00017729350736184982,
          0.0001944035555021732,
          0.00015568778137070797,
          0.00014851491462941648,
          0.00020352619184901052,
          0.00019516207275467227,
          0.00018896109005865126,
          0.00017090265958609596,
          0.0001529891383053003,
          0.00014779628360564798,
          0.0001045911834084189,
          0.000059486447627645534,
          0.0645731049626631,
          0.06282526117762384,
          0.0625945793308042,
          0.05187533693496057,
          0.05767492336161974,
          0.04612456007089661,
          0.04822586389105413,
          0.05253682403310775,
          0.05163640565605835,
          0.05651601975336502,
          0.0345587373715935,
          0.05056370458506548,
          0.05099679247499008,
          0.04442272491839195,
          0.05208127867071272,
          0.05848140445706118,
          0.05326621125988067,
          0.0625024571373921,
          0.04257946503300828,
          0.057910947707755026,
          0.0516349570761499,
          0.05225014894942436,
          0.03874445271532114,
          0.04873620814223834,
          0.05810579599306373,
          0.04845440350983634,
          0.054254153366861575,
          0.04648831989711931,
          0.058154870127708695,
          0.04465901675526595,
          0.050612619018419805,
          0.0495238128467138,
          0.04588389489537682,
          0.04683655559047921,
          0.050115637445675265,
          0.04439592019402066,
          0.06014071353069421,
          0.05160194506706354,
          0.05489482318840509,
          0.05848109658878977,
          0.04813594710628767,
          0.05867319034849306,
          0.047795427031732916,
          0.04932207162230255,
          0.04617270422340407,
          0.05613012170003696,
          0.040750556331501216,
          0.054430197114068934,
          0.04306356439013124,
          0.04426064145569837,
          0.0565048780561661,
          0.046456346871630735,
          0.05643040361445344,
          0.048253204464690676,
          0.038926629123837805,
          0.05549909518048826,
          0.04721803188880252,
          0.04818763550093213,
          0.03847303854582282,
          0.0478797921557705,
          0.05131853169706784,
          0.04905094077887219,
          0.04327965406501277,
          0.053299763774535165,
          0.04575143658009066,
          0.04643079581763211,
          0.050328256927178,
          0.04964396995948739,
          0.04494564094742534,
          0.06229425327032028,
          0.042492290930038645,
          0.05123990314788302,
          0.0495446354889646,
          0.04426983986853891,
          0.04413779185610463,
          0.050922394138924625,
          0.04745583888560369,
          0.05403002396102446,
          0.05709777950009681,
          0.03739917054607478
         ],
         "yaxis": "y"
        },
        {
         "hovertemplate": "retraining=Window<br>step=%{x}<br>mse=%{y}<extra></extra>",
         "legendgroup": "Window",
         "line": {
          "color": "#00cc96",
          "dash": "solid"
         },
         "marker": {
          "symbol": "circle"
         },
         "mode": "lines",
         "name": "Window",
         "orientation": "v",
         "showlegend": true,
         "type": "scatter",
         "x": [
          0,
          1,
          2,
          3,
          4,
          5,
          6,
          7,
          8,
          9,
          10,
          11,
          12,
          13,
          14,
          15,
          16,
          17,
          18,
          19,
          20,
          21,
          22,
          23,
          24,
          25,
          26,
          27,
          28,
          29,
          30,
          31,
          32,
          33,
          34,
          35,
          36,
          37,
          38,
          39,
          40,
          41,
          42,
          43,
          44,
          45,
          46,
          47,
          48,
          49,
          50,
          51,
          52,
          53,
          54,
          55,
          56,
          57,
          58,
          59,
          60,
          61,
          62,
          63,
          64,
          65,
          66,
          67,
          68,
          69,
          70,
          71,
          72,
          73,
          74,
          75,
          76,
          77,
          78,
          79,
          80,
          81,
          82,
          83,
          84,
          85,
          86,
          87,
          88,
          89,
          90,
          91,
          92,
          93,
          94,
          95,
          96,
          97,
          98,
          99
         ],
         "xaxis": "x",
         "y": [
          0.093561902670151,
          0.06415197463411028,
          0.07671333716340223,
          0.060859153779923035,
          0.07481550660587145,
          0.0680160128431157,
          0.07711151942107124,
          0.000018030237421462327,
          0.00005609472127277382,
          0.0000469154669273837,
          0.00003361909280482043,
          0.0000363012222209648,
          0.00005778262489721619,
          0.00004962608290760376,
          0.000048294942667892234,
          0.00004387717466940666,
          0.00005263290833805167,
          0.00004026719640897322,
          0.00002253819768941232,
          0.00003231971832354857,
          0.07046943250627202,
          0.06213571665097621,
          0.05850503033961796,
          0.05831456782123277,
          0.06523984955885642,
          0.04781097421179233,
          0.05953880897008899,
          0.06619569415107271,
          0.05891638895430088,
          0.06895349989044613,
          0.049878444103271594,
          0.05177922925694318,
          0.06115976255957188,
          0.04785118117220768,
          0.06988452339058479,
          0.05148687201273307,
          0.06252461700943332,
          0.07013756519348208,
          0.06021025849484039,
          0.05975514931611794,
          0.06442231476889113,
          0.04863655610806596,
          0.07183060376654549,
          0.04973270660504009,
          0.06566615270614068,
          0.07208727645632544,
          0.050625307260014754,
          0.057216001047156025,
          0.06319192505505539,
          0.07235117801577008,
          0.05800413740123232,
          0.0736185284179837,
          0.06357934402515274,
          0.05912447740262682,
          0.06871069114885694,
          0.07358670187087912,
          0.06607652540108314,
          0.04834369484377579,
          0.0675942616484322,
          0.06221953303131165,
          0.056629537230724766,
          0.06283032220090808,
          0.06508825462023064,
          0.05687316186896275,
          0.055561978724118666,
          0.04920380318530067,
          0.05928691388069068,
          0.06179165776341219,
          0.05344400599558644,
          0.052908036031486416,
          0.05715543275158013,
          0.04626962849731871,
          0.04381802614070507,
          0.044703865104612446,
          0.04402529352823806,
          0.06858626792360799,
          0.05806574753218964,
          0.06795451750834978,
          0.045219188147411084,
          0.044314710792428616,
          0.05607063494252895,
          0.057520222943307456,
          0.04717035275816168,
          0.06904062536706945,
          0.058735533930806993,
          0.06043946124319991,
          0.06631678608570882,
          0.05262929765282471,
          0.056645431274750344,
          0.05460448845759566,
          0.05859047744948913,
          0.05646362043058986,
          0.0524692925498603,
          0.04875815928999428,
          0.047213446573206135,
          0.06371847860587192,
          0.04118779750959185,
          0.0486528599428713,
          0.05407992343821745,
          0.052633821627320616
         ],
         "yaxis": "y"
        }
       ],
       "layout": {
        "legend": {
         "title": {
          "text": "Retraining"
         },
         "tracegroupgap": 0
        },
        "template": {
         "data": {
          "bar": [
           {
            "error_x": {
             "color": "#2a3f5f"
            },
            "error_y": {
             "color": "#2a3f5f"
            },
            "marker": {
             "line": {
              "color": "#E5ECF6",
              "width": 0.5
             },
             "pattern": {
              "fillmode": "overlay",
              "size": 10,
              "solidity": 0.2
             }
            },
            "type": "bar"
           }
          ],
          "barpolar": [
           {
            "marker": {
             "line": {
              "color": "#E5ECF6",
              "width": 0.5
             },
             "pattern": {
              "fillmode": "overlay",
              "size": 10,
              "solidity": 0.2
             }
            },
            "type": "barpolar"
           }
          ],
          "carpet": [
           {
            "aaxis": {
             "endlinecolor": "#2a3f5f",
             "gridcolor": "white",
             "linecolor": "white",
             "minorgridcolor": "white",
             "startlinecolor": "#2a3f5f"
            },
            "baxis": {
             "endlinecolor": "#2a3f5f",
             "gridcolor": "white",
             "linecolor": "white",
             "minorgridcolor": "white",
             "startlinecolor": "#2a3f5f"
            },
            "type": "carpet"
           }
          ],
          "choropleth": [
           {
            "colorbar": {
             "outlinewidth": 0,
             "ticks": ""
            },
            "type": "choropleth"
           }
          ],
          "contour": [
           {
            "colorbar": {
             "outlinewidth": 0,
             "ticks": ""
            },
            "colorscale": [
             [
              0,
              "#0d0887"
             ],
             [
              0.1111111111111111,
              "#46039f"
             ],
             [
              0.2222222222222222,
              "#7201a8"
             ],
             [
              0.3333333333333333,
              "#9c179e"
             ],
             [
              0.4444444444444444,
              "#bd3786"
             ],
             [
              0.5555555555555556,
              "#d8576b"
             ],
             [
              0.6666666666666666,
              "#ed7953"
             ],
             [
              0.7777777777777778,
              "#fb9f3a"
             ],
             [
              0.8888888888888888,
              "#fdca26"
             ],
             [
              1,
              "#f0f921"
             ]
            ],
            "type": "contour"
           }
          ],
          "contourcarpet": [
           {
            "colorbar": {
             "outlinewidth": 0,
             "ticks": ""
            },
            "type": "contourcarpet"
           }
          ],
          "heatmap": [
           {
            "colorbar": {
             "outlinewidth": 0,
             "ticks": ""
            },
            "colorscale": [
             [
              0,
              "#0d0887"
             ],
             [
              0.1111111111111111,
              "#46039f"
             ],
             [
              0.2222222222222222,
              "#7201a8"
             ],
             [
              0.3333333333333333,
              "#9c179e"
             ],
             [
              0.4444444444444444,
              "#bd3786"
             ],
             [
              0.5555555555555556,
              "#d8576b"
             ],
             [
              0.6666666666666666,
              "#ed7953"
             ],
             [
              0.7777777777777778,
              "#fb9f3a"
             ],
             [
              0.8888888888888888,
              "#fdca26"
             ],
             [
              1,
              "#f0f921"
             ]
            ],
            "type": "heatmap"
           }
          ],
          "heatmapgl": [
           {
            "colorbar": {
             "outlinewidth": 0,
             "ticks": ""
            },
            "colorscale": [
             [
              0,
              "#0d0887"
             ],
             [
              0.1111111111111111,
              "#46039f"
             ],
             [
              0.2222222222222222,
              "#7201a8"
             ],
             [
              0.3333333333333333,
              "#9c179e"
             ],
             [
              0.4444444444444444,
              "#bd3786"
             ],
             [
              0.5555555555555556,
              "#d8576b"
             ],
             [
              0.6666666666666666,
              "#ed7953"
             ],
             [
              0.7777777777777778,
              "#fb9f3a"
             ],
             [
              0.8888888888888888,
              "#fdca26"
             ],
             [
              1,
              "#f0f921"
             ]
            ],
            "type": "heatmapgl"
           }
          ],
          "histogram": [
           {
            "marker": {
             "pattern": {
              "fillmode": "overlay",
              "size": 10,
              "solidity": 0.2
             }
            },
            "type": "histogram"
           }
          ],
          "histogram2d": [
           {
            "colorbar": {
             "outlinewidth": 0,
             "ticks": ""
            },
            "colorscale": [
             [
              0,
              "#0d0887"
             ],
             [
              0.1111111111111111,
              "#46039f"
             ],
             [
              0.2222222222222222,
              "#7201a8"
             ],
             [
              0.3333333333333333,
              "#9c179e"
             ],
             [
              0.4444444444444444,
              "#bd3786"
             ],
             [
              0.5555555555555556,
              "#d8576b"
             ],
             [
              0.6666666666666666,
              "#ed7953"
             ],
             [
              0.7777777777777778,
              "#fb9f3a"
             ],
             [
              0.8888888888888888,
              "#fdca26"
             ],
             [
              1,
              "#f0f921"
             ]
            ],
            "type": "histogram2d"
           }
          ],
          "histogram2dcontour": [
           {
            "colorbar": {
             "outlinewidth": 0,
             "ticks": ""
            },
            "colorscale": [
             [
              0,
              "#0d0887"
             ],
             [
              0.1111111111111111,
              "#46039f"
             ],
             [
              0.2222222222222222,
              "#7201a8"
             ],
             [
              0.3333333333333333,
              "#9c179e"
             ],
             [
              0.4444444444444444,
              "#bd3786"
             ],
             [
              0.5555555555555556,
              "#d8576b"
             ],
             [
              0.6666666666666666,
              "#ed7953"
             ],
             [
              0.7777777777777778,
              "#fb9f3a"
             ],
             [
              0.8888888888888888,
              "#fdca26"
             ],
             [
              1,
              "#f0f921"
             ]
            ],
            "type": "histogram2dcontour"
           }
          ],
          "mesh3d": [
           {
            "colorbar": {
             "outlinewidth": 0,
             "ticks": ""
            },
            "type": "mesh3d"
           }
          ],
          "parcoords": [
           {
            "line": {
             "colorbar": {
              "outlinewidth": 0,
              "ticks": ""
             }
            },
            "type": "parcoords"
           }
          ],
          "pie": [
           {
            "automargin": true,
            "type": "pie"
           }
          ],
          "scatter": [
           {
            "fillpattern": {
             "fillmode": "overlay",
             "size": 10,
             "solidity": 0.2
            },
            "type": "scatter"
           }
          ],
          "scatter3d": [
           {
            "line": {
             "colorbar": {
              "outlinewidth": 0,
              "ticks": ""
             }
            },
            "marker": {
             "colorbar": {
              "outlinewidth": 0,
              "ticks": ""
             }
            },
            "type": "scatter3d"
           }
          ],
          "scattercarpet": [
           {
            "marker": {
             "colorbar": {
              "outlinewidth": 0,
              "ticks": ""
             }
            },
            "type": "scattercarpet"
           }
          ],
          "scattergeo": [
           {
            "marker": {
             "colorbar": {
              "outlinewidth": 0,
              "ticks": ""
             }
            },
            "type": "scattergeo"
           }
          ],
          "scattergl": [
           {
            "marker": {
             "colorbar": {
              "outlinewidth": 0,
              "ticks": ""
             }
            },
            "type": "scattergl"
           }
          ],
          "scattermapbox": [
           {
            "marker": {
             "colorbar": {
              "outlinewidth": 0,
              "ticks": ""
             }
            },
            "type": "scattermapbox"
           }
          ],
          "scatterpolar": [
           {
            "marker": {
             "colorbar": {
              "outlinewidth": 0,
              "ticks": ""
             }
            },
            "type": "scatterpolar"
           }
          ],
          "scatterpolargl": [
           {
            "marker": {
             "colorbar": {
              "outlinewidth": 0,
              "ticks": ""
             }
            },
            "type": "scatterpolargl"
           }
          ],
          "scatterternary": [
           {
            "marker": {
             "colorbar": {
              "outlinewidth": 0,
              "ticks": ""
             }
            },
            "type": "scatterternary"
           }
          ],
          "surface": [
           {
            "colorbar": {
             "outlinewidth": 0,
             "ticks": ""
            },
            "colorscale": [
             [
              0,
              "#0d0887"
             ],
             [
              0.1111111111111111,
              "#46039f"
             ],
             [
              0.2222222222222222,
              "#7201a8"
             ],
             [
              0.3333333333333333,
              "#9c179e"
             ],
             [
              0.4444444444444444,
              "#bd3786"
             ],
             [
              0.5555555555555556,
              "#d8576b"
             ],
             [
              0.6666666666666666,
              "#ed7953"
             ],
             [
              0.7777777777777778,
              "#fb9f3a"
             ],
             [
              0.8888888888888888,
              "#fdca26"
             ],
             [
              1,
              "#f0f921"
             ]
            ],
            "type": "surface"
           }
          ],
          "table": [
           {
            "cells": {
             "fill": {
              "color": "#EBF0F8"
             },
             "line": {
              "color": "white"
             }
            },
            "header": {
             "fill": {
              "color": "#C8D4E3"
             },
             "line": {
              "color": "white"
             }
            },
            "type": "table"
           }
          ]
         },
         "layout": {
          "annotationdefaults": {
           "arrowcolor": "#2a3f5f",
           "arrowhead": 0,
           "arrowwidth": 1
          },
          "autotypenumbers": "strict",
          "coloraxis": {
           "colorbar": {
            "outlinewidth": 0,
            "ticks": ""
           }
          },
          "colorscale": {
           "diverging": [
            [
             0,
             "#8e0152"
            ],
            [
             0.1,
             "#c51b7d"
            ],
            [
             0.2,
             "#de77ae"
            ],
            [
             0.3,
             "#f1b6da"
            ],
            [
             0.4,
             "#fde0ef"
            ],
            [
             0.5,
             "#f7f7f7"
            ],
            [
             0.6,
             "#e6f5d0"
            ],
            [
             0.7,
             "#b8e186"
            ],
            [
             0.8,
             "#7fbc41"
            ],
            [
             0.9,
             "#4d9221"
            ],
            [
             1,
             "#276419"
            ]
           ],
           "sequential": [
            [
             0,
             "#0d0887"
            ],
            [
             0.1111111111111111,
             "#46039f"
            ],
            [
             0.2222222222222222,
             "#7201a8"
            ],
            [
             0.3333333333333333,
             "#9c179e"
            ],
            [
             0.4444444444444444,
             "#bd3786"
            ],
            [
             0.5555555555555556,
             "#d8576b"
            ],
            [
             0.6666666666666666,
             "#ed7953"
            ],
            [
             0.7777777777777778,
             "#fb9f3a"
            ],
            [
             0.8888888888888888,
             "#fdca26"
            ],
            [
             1,
             "#f0f921"
            ]
           ],
           "sequentialminus": [
            [
             0,
             "#0d0887"
            ],
            [
             0.1111111111111111,
             "#46039f"
            ],
            [
             0.2222222222222222,
             "#7201a8"
            ],
            [
             0.3333333333333333,
             "#9c179e"
            ],
            [
             0.4444444444444444,
             "#bd3786"
            ],
            [
             0.5555555555555556,
             "#d8576b"
            ],
            [
             0.6666666666666666,
             "#ed7953"
            ],
            [
             0.7777777777777778,
             "#fb9f3a"
            ],
            [
             0.8888888888888888,
             "#fdca26"
            ],
            [
             1,
             "#f0f921"
            ]
           ]
          },
          "colorway": [
           "#636efa",
           "#EF553B",
           "#00cc96",
           "#ab63fa",
           "#FFA15A",
           "#19d3f3",
           "#FF6692",
           "#B6E880",
           "#FF97FF",
           "#FECB52"
          ],
          "font": {
           "color": "#2a3f5f"
          },
          "geo": {
           "bgcolor": "white",
           "lakecolor": "white",
           "landcolor": "#E5ECF6",
           "showlakes": true,
           "showland": true,
           "subunitcolor": "white"
          },
          "hoverlabel": {
           "align": "left"
          },
          "hovermode": "closest",
          "mapbox": {
           "style": "light"
          },
          "paper_bgcolor": "white",
          "plot_bgcolor": "#E5ECF6",
          "polar": {
           "angularaxis": {
            "gridcolor": "white",
            "linecolor": "white",
            "ticks": ""
           },
           "bgcolor": "#E5ECF6",
           "radialaxis": {
            "gridcolor": "white",
            "linecolor": "white",
            "ticks": ""
           }
          },
          "scene": {
           "xaxis": {
            "backgroundcolor": "#E5ECF6",
            "gridcolor": "white",
            "gridwidth": 2,
            "linecolor": "white",
            "showbackground": true,
            "ticks": "",
            "zerolinecolor": "white"
           },
           "yaxis": {
            "backgroundcolor": "#E5ECF6",
            "gridcolor": "white",
            "gridwidth": 2,
            "linecolor": "white",
            "showbackground": true,
            "ticks": "",
            "zerolinecolor": "white"
           },
           "zaxis": {
            "backgroundcolor": "#E5ECF6",
            "gridcolor": "white",
            "gridwidth": 2,
            "linecolor": "white",
            "showbackground": true,
            "ticks": "",
            "zerolinecolor": "white"
           }
          },
          "shapedefaults": {
           "line": {
            "color": "#2a3f5f"
           }
          },
          "ternary": {
           "aaxis": {
            "gridcolor": "white",
            "linecolor": "white",
            "ticks": ""
           },
           "baxis": {
            "gridcolor": "white",
            "linecolor": "white",
            "ticks": ""
           },
           "bgcolor": "#E5ECF6",
           "caxis": {
            "gridcolor": "white",
            "linecolor": "white",
            "ticks": ""
           }
          },
          "title": {
           "x": 0.05
          },
          "xaxis": {
           "automargin": true,
           "gridcolor": "white",
           "linecolor": "white",
           "ticks": "",
           "title": {
            "standoff": 15
           },
           "zerolinecolor": "white",
           "zerolinewidth": 2
          },
          "yaxis": {
           "automargin": true,
           "gridcolor": "white",
           "linecolor": "white",
           "ticks": "",
           "title": {
            "standoff": 15
           },
           "zerolinecolor": "white",
           "zerolinewidth": 2
          }
         }
        },
        "title": {
         "text": "Distribution Shift Scenario"
        },
        "xaxis": {
         "anchor": "y",
         "domain": [
          0,
          1
         ],
         "title": {
          "text": "Step"
         }
        },
        "yaxis": {
         "anchor": "x",
         "domain": [
          0,
          1
         ],
         "title": {
          "text": "MSE"
         }
        }
       }
      }
     },
     "metadata": {},
     "output_type": "display_data"
    }
   ],
   "source": [
    "plot_df = eval_df.loc[eval_df['scenario'] == 'Dist Shift']  \n",
    "fig = line(plot_df, x='step', y='mse', color='retraining', title='Distribution Shift Scenario')\n",
    "fig.update_layout(xaxis_title='Step', yaxis_title='MSE', legend_title_text='Retraining')\n",
    "fig.show()"
   ]
  },
  {
   "cell_type": "code",
   "execution_count": 26,
   "metadata": {},
   "outputs": [
    {
     "data": {
      "application/vnd.plotly.v1+json": {
       "config": {
        "plotlyServerURL": "https://plot.ly"
       },
       "data": [
        {
         "hovertemplate": "retraining=None<br>step=%{x}<br>mse=%{y}<extra></extra>",
         "legendgroup": "None",
         "line": {
          "color": "#636efa",
          "dash": "solid"
         },
         "marker": {
          "symbol": "circle"
         },
         "mode": "lines",
         "name": "None",
         "orientation": "v",
         "showlegend": true,
         "type": "scatter",
         "x": [
          0,
          1,
          2,
          3,
          4,
          5,
          6,
          7,
          8,
          9,
          10,
          11,
          12,
          13,
          14,
          15,
          16,
          17,
          18,
          19,
          20,
          21,
          22,
          23,
          24,
          25,
          26,
          27,
          28,
          29,
          30,
          31,
          32,
          33,
          34,
          35,
          36,
          37,
          38,
          39,
          40,
          41,
          42,
          43,
          44,
          45,
          46,
          47,
          48,
          49,
          50,
          51,
          52,
          53,
          54,
          55,
          56,
          57,
          58,
          59,
          60,
          61,
          62,
          63,
          64,
          65,
          66,
          67,
          68,
          69,
          70,
          71,
          72,
          73,
          74,
          75,
          76,
          77,
          78,
          79,
          80,
          81,
          82,
          83,
          84,
          85,
          86,
          87,
          88,
          89,
          90,
          91,
          92,
          93,
          94,
          95,
          96,
          97,
          98,
          99
         ],
         "xaxis": "x",
         "y": [
          0.00003764089156065598,
          0.00003371158531293802,
          0.00002408137278373893,
          0.000021261368180516753,
          0.00003677511263341788,
          0.000033844435904710016,
          0.000024986949294977893,
          0.000033330119339763834,
          0.00003987604494749826,
          0.00003022053978281566,
          0.00003490241189022209,
          0.00002627110050490191,
          0.00003284638888271094,
          0.000024816614313700303,
          0.000041432129231329264,
          0.000026260941135824467,
          0.00003569919871940095,
          0.00004671920370991344,
          0.00003183969032942089,
          0.000028863396812984586,
          0.047834784856165,
          0.0620453208701759,
          0.05022458530946077,
          0.06232618599509258,
          0.062155981663747216,
          0.07838202516378531,
          0.06279179757223939,
          0.09043373227014148,
          0.09058655810346418,
          0.08624113257720735,
          0.1646752827967196,
          0.10739151892443982,
          0.11929245683324242,
          0.13185270016026987,
          0.13434851013060511,
          0.16151359982612173,
          0.14886880370099062,
          0.20480918888327412,
          0.15725121088878366,
          0.14575249616818806,
          0.1807147653911842,
          0.20045027341852445,
          0.14415971822430942,
          0.22932275928619822,
          0.2527745619987643,
          0.26427423933655003,
          0.2128335120049652,
          0.25360545628923153,
          0.2910922880001099,
          0.3675172288352529,
          0.2876866711738058,
          0.25609752544213493,
          0.26233514500232796,
          0.3651567913921338,
          0.38170318089225536,
          0.4070923955224866,
          0.3522106154063562,
          0.47428949894671063,
          0.42736280191433923,
          0.439186296436847,
          0.48069626576343644,
          0.4462532996269215,
          0.4258748570736491,
          0.5189934954406166,
          0.5548968228252779,
          0.5736576640423806,
          0.7163396201764447,
          0.5984533097469458,
          0.5912034946322187,
          0.6541762642081307,
          0.7294648597603858,
          0.7654219662061705,
          0.6757850460853737,
          0.6766734134259694,
          0.7727461577952673,
          0.8156800668599973,
          0.7138924085644405,
          0.9498428338844195,
          0.8631897071260918,
          0.9324669009125106,
          0.9644796845626912,
          0.8694154244453572,
          0.885179745072061,
          0.799177068764667,
          1.036503010677188,
          1.0814124695911067,
          1.0676844431323704,
          1.0362878498728079,
          1.0204209981360655,
          1.0479409071056829,
          1.250733342148944,
          1.1249551609292572,
          1.093627661183288,
          1.1174115997218477,
          0.9601172699707894,
          1.1902400079205813,
          1.2782766578514224,
          1.3179727408828472,
          1.2132466479341009,
          1.2228207154932698
         ],
         "yaxis": "y"
        },
        {
         "hovertemplate": "retraining=All Data<br>step=%{x}<br>mse=%{y}<extra></extra>",
         "legendgroup": "All Data",
         "line": {
          "color": "#EF553B",
          "dash": "solid"
         },
         "marker": {
          "symbol": "circle"
         },
         "mode": "lines",
         "name": "All Data",
         "orientation": "v",
         "showlegend": true,
         "type": "scatter",
         "x": [
          0,
          1,
          2,
          3,
          4,
          5,
          6,
          7,
          8,
          9,
          10,
          11,
          12,
          13,
          14,
          15,
          16,
          17,
          18,
          19,
          20,
          21,
          22,
          23,
          24,
          25,
          26,
          27,
          28,
          29,
          30,
          31,
          32,
          33,
          34,
          35,
          36,
          37,
          38,
          39,
          40,
          41,
          42,
          43,
          44,
          45,
          46,
          47,
          48,
          49,
          50,
          51,
          52,
          53,
          54,
          55,
          56,
          57,
          58,
          59,
          60,
          61,
          62,
          63,
          64,
          65,
          66,
          67,
          68,
          69,
          70,
          71,
          72,
          73,
          74,
          75,
          76,
          77,
          78,
          79,
          80,
          81,
          82,
          83,
          84,
          85,
          86,
          87,
          88,
          89,
          90,
          91,
          92,
          93,
          94,
          95,
          96,
          97,
          98,
          99
         ],
         "xaxis": "x",
         "y": [
          0.00003764089156065598,
          0.00003371158531293802,
          0.00002408137278373893,
          0.000021261368180516753,
          0.00003677511263341788,
          0.000033844435904710016,
          0.000024986949294977893,
          0.000033330119339763834,
          0.00003987604494749826,
          0.00003022053978281566,
          0.00003490241189022209,
          0.00002627110050490191,
          0.00003284638888271094,
          0.000024816614313700303,
          0.000041432129231329264,
          0.000026260941135824467,
          0.00003569919871940095,
          0.00004671920370991344,
          0.00003183969032942089,
          0.000028863396812984586,
          0.047834784856165,
          0.057428943649849996,
          0.04477898592563039,
          0.05762931230634959,
          0.053462624692857744,
          0.07125780999354057,
          0.04915311651750903,
          0.0718217714201005,
          0.06367883871472459,
          0.06504051769996394,
          0.11725790405561742,
          0.07203488994962198,
          0.07262818554459843,
          0.0777918205656225,
          0.09809114118580523,
          0.10228957733434117,
          0.09738505536264037,
          0.12275284802424065,
          0.0966805725341406,
          0.10068708009770821,
          0.10403881599498595,
          0.11521262434682483,
          0.07475241549758192,
          0.13652077969765222,
          0.14250699948712084,
          0.15012783412733574,
          0.11224188210391663,
          0.12559851369762431,
          0.17240366405565113,
          0.17474566851901943,
          0.1570317505519749,
          0.13158149307408576,
          0.14435805265736193,
          0.19668759572637295,
          0.18553836496801662,
          0.18552754509172617,
          0.19722349450873222,
          0.23412605950484466,
          0.21356419746919442,
          0.20552672643818,
          0.21570425345529015,
          0.20576111893046845,
          0.19627539866674917,
          0.22733669915883395,
          0.21918773136210257,
          0.23321398872348564,
          0.2762656289912439,
          0.2845458127632918,
          0.24545451538075555,
          0.2685626427678859,
          0.27192176828420656,
          0.2799402248406375,
          0.28495206738950335,
          0.27717977389874177,
          0.3350472683720012,
          0.33559403557800943,
          0.2731682786702024,
          0.3951707170625112,
          0.33040130854571,
          0.3478523400565755,
          0.35372163305450555,
          0.3502949902515773,
          0.3381207982987537,
          0.2766137997539368,
          0.38050599111955075,
          0.3735314361724615,
          0.3842299767817834,
          0.3905394493995771,
          0.370321040115964,
          0.3807610260688262,
          0.4205385584420143,
          0.37890460651303265,
          0.3972578508626421,
          0.4018747178843842,
          0.3518308341215206,
          0.43030565354471045,
          0.42780591837322945,
          0.44396521937295397,
          0.49450118089149114,
          0.412598522347413
         ],
         "yaxis": "y"
        },
        {
         "hovertemplate": "retraining=Window<br>step=%{x}<br>mse=%{y}<extra></extra>",
         "legendgroup": "Window",
         "line": {
          "color": "#00cc96",
          "dash": "solid"
         },
         "marker": {
          "symbol": "circle"
         },
         "mode": "lines",
         "name": "Window",
         "orientation": "v",
         "showlegend": true,
         "type": "scatter",
         "x": [
          0,
          1,
          2,
          3,
          4,
          5,
          6,
          7,
          8,
          9,
          10,
          11,
          12,
          13,
          14,
          15,
          16,
          17,
          18,
          19,
          20,
          21,
          22,
          23,
          24,
          25,
          26,
          27,
          28,
          29,
          30,
          31,
          32,
          33,
          34,
          35,
          36,
          37,
          38,
          39,
          40,
          41,
          42,
          43,
          44,
          45,
          46,
          47,
          48,
          49,
          50,
          51,
          52,
          53,
          54,
          55,
          56,
          57,
          58,
          59,
          60,
          61,
          62,
          63,
          64,
          65,
          66,
          67,
          68,
          69,
          70,
          71,
          72,
          73,
          74,
          75,
          76,
          77,
          78,
          79,
          80,
          81,
          82,
          83,
          84,
          85,
          86,
          87,
          88,
          89,
          90,
          91,
          92,
          93,
          94,
          95,
          96,
          97,
          98,
          99
         ],
         "xaxis": "x",
         "y": [
          0.035665537814826384,
          0.029320485627200542,
          0.028236441199624582,
          0.000018277888542416288,
          0.000026251428813918147,
          0.000017871987345286674,
          0.00002254936564379971,
          0.000013341888827280904,
          0.00002228474946184217,
          0.000022634249831772586,
          0.000014996355284173495,
          0.000016950184230518524,
          0.000013814670553316266,
          0.000015043649556221497,
          0.000021743110157888096,
          0.00001226077066537314,
          0.00001811981765769341,
          0.000023181075079735808,
          0.000023057740731123038,
          0.00002008027373300511,
          0.05243523481111909,
          0.05487122980366361,
          0.03660961925877239,
          0.05557442074020948,
          0.0481823245806506,
          0.061351443286432335,
          0.0465624856404573,
          0.06035275553560523,
          0.057643936050782885,
          0.05453221481891454,
          0.0842537787611582,
          0.06223616433261211,
          0.06160382468397604,
          0.05113884674962429,
          0.07119200562737964,
          0.06717766542636314,
          0.0706313372324688,
          0.08743422871669188,
          0.06015369146677466,
          0.058893028454915425,
          0.06512172233851309,
          0.062175227837849144,
          0.049527125872544424,
          0.07207537485975013,
          0.07702371462564811,
          0.0791970751902256,
          0.061204244472103826,
          0.06083113675214683,
          0.08685230313592347,
          0.09207940636208022,
          0.0852093066583301,
          0.07840342710428737,
          0.05650398422368771,
          0.09680967913766497,
          0.09439474049891658,
          0.09643447071949945,
          0.07116466891794684,
          0.09867860745012165,
          0.07896981649237544,
          0.09548257381095489,
          0.08251022226444042,
          0.09282549681679078,
          0.07663149279876673,
          0.07225575244160017,
          0.05935815758055458,
          0.08729095757036724,
          0.0949218500276378,
          0.08272228654615381,
          0.07111440265833767,
          0.09459158194423462,
          0.0879379317600689,
          0.08736153220403806,
          0.08132076727549045,
          0.08412774338180332,
          0.07139231772420024,
          0.1003295292065888,
          0.08883696835066003,
          0.09584139895729996,
          0.08096998656440915,
          0.08475720813523159,
          0.09679780847900826,
          0.0759925593822631,
          0.08807618103006111,
          0.06415881136211088,
          0.08423264630692372,
          0.08502705129680349,
          0.09416308468276852,
          0.08718893860588114,
          0.09326018088902302,
          0.08509738909716578,
          0.08770991375584238,
          0.09396282591791999,
          0.0853663856702771,
          0.07966460389024708,
          0.06613657403020466,
          0.08737391190143025,
          0.07277450411376372,
          0.09179492456228243,
          0.09264327912474582,
          0.06080672413727918
         ],
         "yaxis": "y"
        }
       ],
       "layout": {
        "legend": {
         "title": {
          "text": "Retraining"
         },
         "tracegroupgap": 0
        },
        "template": {
         "data": {
          "bar": [
           {
            "error_x": {
             "color": "#2a3f5f"
            },
            "error_y": {
             "color": "#2a3f5f"
            },
            "marker": {
             "line": {
              "color": "#E5ECF6",
              "width": 0.5
             },
             "pattern": {
              "fillmode": "overlay",
              "size": 10,
              "solidity": 0.2
             }
            },
            "type": "bar"
           }
          ],
          "barpolar": [
           {
            "marker": {
             "line": {
              "color": "#E5ECF6",
              "width": 0.5
             },
             "pattern": {
              "fillmode": "overlay",
              "size": 10,
              "solidity": 0.2
             }
            },
            "type": "barpolar"
           }
          ],
          "carpet": [
           {
            "aaxis": {
             "endlinecolor": "#2a3f5f",
             "gridcolor": "white",
             "linecolor": "white",
             "minorgridcolor": "white",
             "startlinecolor": "#2a3f5f"
            },
            "baxis": {
             "endlinecolor": "#2a3f5f",
             "gridcolor": "white",
             "linecolor": "white",
             "minorgridcolor": "white",
             "startlinecolor": "#2a3f5f"
            },
            "type": "carpet"
           }
          ],
          "choropleth": [
           {
            "colorbar": {
             "outlinewidth": 0,
             "ticks": ""
            },
            "type": "choropleth"
           }
          ],
          "contour": [
           {
            "colorbar": {
             "outlinewidth": 0,
             "ticks": ""
            },
            "colorscale": [
             [
              0,
              "#0d0887"
             ],
             [
              0.1111111111111111,
              "#46039f"
             ],
             [
              0.2222222222222222,
              "#7201a8"
             ],
             [
              0.3333333333333333,
              "#9c179e"
             ],
             [
              0.4444444444444444,
              "#bd3786"
             ],
             [
              0.5555555555555556,
              "#d8576b"
             ],
             [
              0.6666666666666666,
              "#ed7953"
             ],
             [
              0.7777777777777778,
              "#fb9f3a"
             ],
             [
              0.8888888888888888,
              "#fdca26"
             ],
             [
              1,
              "#f0f921"
             ]
            ],
            "type": "contour"
           }
          ],
          "contourcarpet": [
           {
            "colorbar": {
             "outlinewidth": 0,
             "ticks": ""
            },
            "type": "contourcarpet"
           }
          ],
          "heatmap": [
           {
            "colorbar": {
             "outlinewidth": 0,
             "ticks": ""
            },
            "colorscale": [
             [
              0,
              "#0d0887"
             ],
             [
              0.1111111111111111,
              "#46039f"
             ],
             [
              0.2222222222222222,
              "#7201a8"
             ],
             [
              0.3333333333333333,
              "#9c179e"
             ],
             [
              0.4444444444444444,
              "#bd3786"
             ],
             [
              0.5555555555555556,
              "#d8576b"
             ],
             [
              0.6666666666666666,
              "#ed7953"
             ],
             [
              0.7777777777777778,
              "#fb9f3a"
             ],
             [
              0.8888888888888888,
              "#fdca26"
             ],
             [
              1,
              "#f0f921"
             ]
            ],
            "type": "heatmap"
           }
          ],
          "heatmapgl": [
           {
            "colorbar": {
             "outlinewidth": 0,
             "ticks": ""
            },
            "colorscale": [
             [
              0,
              "#0d0887"
             ],
             [
              0.1111111111111111,
              "#46039f"
             ],
             [
              0.2222222222222222,
              "#7201a8"
             ],
             [
              0.3333333333333333,
              "#9c179e"
             ],
             [
              0.4444444444444444,
              "#bd3786"
             ],
             [
              0.5555555555555556,
              "#d8576b"
             ],
             [
              0.6666666666666666,
              "#ed7953"
             ],
             [
              0.7777777777777778,
              "#fb9f3a"
             ],
             [
              0.8888888888888888,
              "#fdca26"
             ],
             [
              1,
              "#f0f921"
             ]
            ],
            "type": "heatmapgl"
           }
          ],
          "histogram": [
           {
            "marker": {
             "pattern": {
              "fillmode": "overlay",
              "size": 10,
              "solidity": 0.2
             }
            },
            "type": "histogram"
           }
          ],
          "histogram2d": [
           {
            "colorbar": {
             "outlinewidth": 0,
             "ticks": ""
            },
            "colorscale": [
             [
              0,
              "#0d0887"
             ],
             [
              0.1111111111111111,
              "#46039f"
             ],
             [
              0.2222222222222222,
              "#7201a8"
             ],
             [
              0.3333333333333333,
              "#9c179e"
             ],
             [
              0.4444444444444444,
              "#bd3786"
             ],
             [
              0.5555555555555556,
              "#d8576b"
             ],
             [
              0.6666666666666666,
              "#ed7953"
             ],
             [
              0.7777777777777778,
              "#fb9f3a"
             ],
             [
              0.8888888888888888,
              "#fdca26"
             ],
             [
              1,
              "#f0f921"
             ]
            ],
            "type": "histogram2d"
           }
          ],
          "histogram2dcontour": [
           {
            "colorbar": {
             "outlinewidth": 0,
             "ticks": ""
            },
            "colorscale": [
             [
              0,
              "#0d0887"
             ],
             [
              0.1111111111111111,
              "#46039f"
             ],
             [
              0.2222222222222222,
              "#7201a8"
             ],
             [
              0.3333333333333333,
              "#9c179e"
             ],
             [
              0.4444444444444444,
              "#bd3786"
             ],
             [
              0.5555555555555556,
              "#d8576b"
             ],
             [
              0.6666666666666666,
              "#ed7953"
             ],
             [
              0.7777777777777778,
              "#fb9f3a"
             ],
             [
              0.8888888888888888,
              "#fdca26"
             ],
             [
              1,
              "#f0f921"
             ]
            ],
            "type": "histogram2dcontour"
           }
          ],
          "mesh3d": [
           {
            "colorbar": {
             "outlinewidth": 0,
             "ticks": ""
            },
            "type": "mesh3d"
           }
          ],
          "parcoords": [
           {
            "line": {
             "colorbar": {
              "outlinewidth": 0,
              "ticks": ""
             }
            },
            "type": "parcoords"
           }
          ],
          "pie": [
           {
            "automargin": true,
            "type": "pie"
           }
          ],
          "scatter": [
           {
            "fillpattern": {
             "fillmode": "overlay",
             "size": 10,
             "solidity": 0.2
            },
            "type": "scatter"
           }
          ],
          "scatter3d": [
           {
            "line": {
             "colorbar": {
              "outlinewidth": 0,
              "ticks": ""
             }
            },
            "marker": {
             "colorbar": {
              "outlinewidth": 0,
              "ticks": ""
             }
            },
            "type": "scatter3d"
           }
          ],
          "scattercarpet": [
           {
            "marker": {
             "colorbar": {
              "outlinewidth": 0,
              "ticks": ""
             }
            },
            "type": "scattercarpet"
           }
          ],
          "scattergeo": [
           {
            "marker": {
             "colorbar": {
              "outlinewidth": 0,
              "ticks": ""
             }
            },
            "type": "scattergeo"
           }
          ],
          "scattergl": [
           {
            "marker": {
             "colorbar": {
              "outlinewidth": 0,
              "ticks": ""
             }
            },
            "type": "scattergl"
           }
          ],
          "scattermapbox": [
           {
            "marker": {
             "colorbar": {
              "outlinewidth": 0,
              "ticks": ""
             }
            },
            "type": "scattermapbox"
           }
          ],
          "scatterpolar": [
           {
            "marker": {
             "colorbar": {
              "outlinewidth": 0,
              "ticks": ""
             }
            },
            "type": "scatterpolar"
           }
          ],
          "scatterpolargl": [
           {
            "marker": {
             "colorbar": {
              "outlinewidth": 0,
              "ticks": ""
             }
            },
            "type": "scatterpolargl"
           }
          ],
          "scatterternary": [
           {
            "marker": {
             "colorbar": {
              "outlinewidth": 0,
              "ticks": ""
             }
            },
            "type": "scatterternary"
           }
          ],
          "surface": [
           {
            "colorbar": {
             "outlinewidth": 0,
             "ticks": ""
            },
            "colorscale": [
             [
              0,
              "#0d0887"
             ],
             [
              0.1111111111111111,
              "#46039f"
             ],
             [
              0.2222222222222222,
              "#7201a8"
             ],
             [
              0.3333333333333333,
              "#9c179e"
             ],
             [
              0.4444444444444444,
              "#bd3786"
             ],
             [
              0.5555555555555556,
              "#d8576b"
             ],
             [
              0.6666666666666666,
              "#ed7953"
             ],
             [
              0.7777777777777778,
              "#fb9f3a"
             ],
             [
              0.8888888888888888,
              "#fdca26"
             ],
             [
              1,
              "#f0f921"
             ]
            ],
            "type": "surface"
           }
          ],
          "table": [
           {
            "cells": {
             "fill": {
              "color": "#EBF0F8"
             },
             "line": {
              "color": "white"
             }
            },
            "header": {
             "fill": {
              "color": "#C8D4E3"
             },
             "line": {
              "color": "white"
             }
            },
            "type": "table"
           }
          ]
         },
         "layout": {
          "annotationdefaults": {
           "arrowcolor": "#2a3f5f",
           "arrowhead": 0,
           "arrowwidth": 1
          },
          "autotypenumbers": "strict",
          "coloraxis": {
           "colorbar": {
            "outlinewidth": 0,
            "ticks": ""
           }
          },
          "colorscale": {
           "diverging": [
            [
             0,
             "#8e0152"
            ],
            [
             0.1,
             "#c51b7d"
            ],
            [
             0.2,
             "#de77ae"
            ],
            [
             0.3,
             "#f1b6da"
            ],
            [
             0.4,
             "#fde0ef"
            ],
            [
             0.5,
             "#f7f7f7"
            ],
            [
             0.6,
             "#e6f5d0"
            ],
            [
             0.7,
             "#b8e186"
            ],
            [
             0.8,
             "#7fbc41"
            ],
            [
             0.9,
             "#4d9221"
            ],
            [
             1,
             "#276419"
            ]
           ],
           "sequential": [
            [
             0,
             "#0d0887"
            ],
            [
             0.1111111111111111,
             "#46039f"
            ],
            [
             0.2222222222222222,
             "#7201a8"
            ],
            [
             0.3333333333333333,
             "#9c179e"
            ],
            [
             0.4444444444444444,
             "#bd3786"
            ],
            [
             0.5555555555555556,
             "#d8576b"
            ],
            [
             0.6666666666666666,
             "#ed7953"
            ],
            [
             0.7777777777777778,
             "#fb9f3a"
            ],
            [
             0.8888888888888888,
             "#fdca26"
            ],
            [
             1,
             "#f0f921"
            ]
           ],
           "sequentialminus": [
            [
             0,
             "#0d0887"
            ],
            [
             0.1111111111111111,
             "#46039f"
            ],
            [
             0.2222222222222222,
             "#7201a8"
            ],
            [
             0.3333333333333333,
             "#9c179e"
            ],
            [
             0.4444444444444444,
             "#bd3786"
            ],
            [
             0.5555555555555556,
             "#d8576b"
            ],
            [
             0.6666666666666666,
             "#ed7953"
            ],
            [
             0.7777777777777778,
             "#fb9f3a"
            ],
            [
             0.8888888888888888,
             "#fdca26"
            ],
            [
             1,
             "#f0f921"
            ]
           ]
          },
          "colorway": [
           "#636efa",
           "#EF553B",
           "#00cc96",
           "#ab63fa",
           "#FFA15A",
           "#19d3f3",
           "#FF6692",
           "#B6E880",
           "#FF97FF",
           "#FECB52"
          ],
          "font": {
           "color": "#2a3f5f"
          },
          "geo": {
           "bgcolor": "white",
           "lakecolor": "white",
           "landcolor": "#E5ECF6",
           "showlakes": true,
           "showland": true,
           "subunitcolor": "white"
          },
          "hoverlabel": {
           "align": "left"
          },
          "hovermode": "closest",
          "mapbox": {
           "style": "light"
          },
          "paper_bgcolor": "white",
          "plot_bgcolor": "#E5ECF6",
          "polar": {
           "angularaxis": {
            "gridcolor": "white",
            "linecolor": "white",
            "ticks": ""
           },
           "bgcolor": "#E5ECF6",
           "radialaxis": {
            "gridcolor": "white",
            "linecolor": "white",
            "ticks": ""
           }
          },
          "scene": {
           "xaxis": {
            "backgroundcolor": "#E5ECF6",
            "gridcolor": "white",
            "gridwidth": 2,
            "linecolor": "white",
            "showbackground": true,
            "ticks": "",
            "zerolinecolor": "white"
           },
           "yaxis": {
            "backgroundcolor": "#E5ECF6",
            "gridcolor": "white",
            "gridwidth": 2,
            "linecolor": "white",
            "showbackground": true,
            "ticks": "",
            "zerolinecolor": "white"
           },
           "zaxis": {
            "backgroundcolor": "#E5ECF6",
            "gridcolor": "white",
            "gridwidth": 2,
            "linecolor": "white",
            "showbackground": true,
            "ticks": "",
            "zerolinecolor": "white"
           }
          },
          "shapedefaults": {
           "line": {
            "color": "#2a3f5f"
           }
          },
          "ternary": {
           "aaxis": {
            "gridcolor": "white",
            "linecolor": "white",
            "ticks": ""
           },
           "baxis": {
            "gridcolor": "white",
            "linecolor": "white",
            "ticks": ""
           },
           "bgcolor": "#E5ECF6",
           "caxis": {
            "gridcolor": "white",
            "linecolor": "white",
            "ticks": ""
           }
          },
          "title": {
           "x": 0.05
          },
          "xaxis": {
           "automargin": true,
           "gridcolor": "white",
           "linecolor": "white",
           "ticks": "",
           "title": {
            "standoff": 15
           },
           "zerolinecolor": "white",
           "zerolinewidth": 2
          },
          "yaxis": {
           "automargin": true,
           "gridcolor": "white",
           "linecolor": "white",
           "ticks": "",
           "title": {
            "standoff": 15
           },
           "zerolinecolor": "white",
           "zerolinewidth": 2
          }
         }
        },
        "title": {
         "text": "Linear Coefficients Scenario"
        },
        "xaxis": {
         "anchor": "y",
         "domain": [
          0,
          1
         ],
         "title": {
          "text": "Step"
         }
        },
        "yaxis": {
         "anchor": "x",
         "domain": [
          0,
          1
         ],
         "title": {
          "text": "MSE"
         }
        }
       }
      }
     },
     "metadata": {},
     "output_type": "display_data"
    }
   ],
   "source": [
    "plot_df = eval_df.loc[eval_df['scenario'] == 'Linear Coefs']  \n",
    "fig = line(plot_df, x='step', y='mse', color='retraining', title='Linear Coefficients Scenario')\n",
    "fig.update_layout(xaxis_title='Step', yaxis_title='MSE', legend_title_text='Retraining')\n",
    "fig.show()"
   ]
  },
  {
   "cell_type": "code",
   "execution_count": 27,
   "metadata": {},
   "outputs": [
    {
     "data": {
      "application/vnd.plotly.v1+json": {
       "config": {
        "plotlyServerURL": "https://plot.ly"
       },
       "data": [
        {
         "hovertemplate": "retraining=None<br>step=%{x}<br>mse=%{y}<extra></extra>",
         "legendgroup": "None",
         "line": {
          "color": "#636efa",
          "dash": "solid"
         },
         "marker": {
          "symbol": "circle"
         },
         "mode": "lines",
         "name": "None",
         "orientation": "v",
         "showlegend": true,
         "type": "scatter",
         "x": [
          0,
          1,
          2,
          3,
          4,
          5,
          6,
          7,
          8,
          9,
          10,
          11,
          12,
          13,
          14,
          15,
          16,
          17,
          18,
          19,
          20,
          21,
          22,
          23,
          24,
          25,
          26,
          27,
          28,
          29,
          30,
          31,
          32,
          33,
          34,
          35,
          36,
          37,
          38,
          39,
          40,
          41,
          42,
          43,
          44,
          45,
          46,
          47,
          48,
          49,
          50,
          51,
          52,
          53,
          54,
          55,
          56,
          57,
          58,
          59,
          60,
          61,
          62,
          63,
          64,
          65,
          66,
          67,
          68,
          69,
          70,
          71,
          72,
          73,
          74,
          75,
          76,
          77,
          78,
          79,
          80,
          81,
          82,
          83,
          84,
          85,
          86,
          87,
          88,
          89,
          90,
          91,
          92,
          93,
          94,
          95,
          96,
          97,
          98,
          99
         ],
         "xaxis": "x",
         "y": [
          0.00008459633208926172,
          0.00008452720310820224,
          0.0000674622527932998,
          0.00008503729225367197,
          0.00012192329581445872,
          0.00010002724458219083,
          0.00008924346321814574,
          0.00007899176156907076,
          0.00011380603447234346,
          0.00011909173687448624,
          0.00009975042942786595,
          0.00011660078928893323,
          0.00010553217313741579,
          0.00008347612200422741,
          0.00007324602212771242,
          0.00010085133515491534,
          0.00011832639051673026,
          0.00010096975599718895,
          0.00007611641732562795,
          0.00010145755671122612,
          0.041111699714629656,
          0.04952167201413241,
          0.04312716219318064,
          0.04891786433424313,
          0.04738720681248382,
          0.035496561046507946,
          0.04143934589120233,
          0.049499666150989406,
          0.052657250704632085,
          0.052486941987867686,
          0.030532412679235916,
          0.04986401368019953,
          0.057029216530185466,
          0.05133744653483284,
          0.04994975130391526,
          0.05194199100995496,
          0.04244994370993405,
          0.04288614103787525,
          0.049069121899782145,
          0.13276319211870907,
          0.1718181011453402,
          0.12892702839666778,
          0.13803502398377782,
          0.1630394132870697,
          0.15678643160933903,
          0.17844300993050136,
          0.1733827637953755,
          0.14906745248901304,
          0.17699601121754738,
          0.17871211569812315,
          0.15642214765119944,
          0.15981981179177632,
          0.17534956883144898,
          0.13530266408532265,
          0.17659899380071492,
          0.18846321956388018,
          0.1235373746565934,
          0.18706402586414078,
          0.183612935940421,
          0.15157287629547,
          0.14081033279359317,
          0.15464138822084486,
          0.14542123331537127,
          0.13607112824346124,
          0.14775626425515218,
          0.1635963085589499,
          0.1441219828396882,
          0.13380687811110398,
          0.14564557985959312,
          0.15715655813127405,
          0.1645385142823147,
          0.1433585480099085,
          0.18258604149995084,
          0.15649635218699245,
          0.17436941711120757,
          0.13951230675373172,
          0.14025880649739994,
          0.15358808953899672,
          0.15225657056776618,
          0.1530773635732176,
          0.1783250870681354,
          0.1568388258312097,
          0.18786078632662317,
          0.17715951203679892,
          0.18283979116615584,
          0.14514562075953044,
          0.17283270902729161,
          0.1595789684896344,
          0.1495201359047017,
          0.13675743358842238,
          0.16585419176103003,
          0.14700400957748716,
          0.15980853456167515,
          0.15392508133387572,
          0.16922495503769217,
          0.16472975200688098,
          0.16037830785618354,
          0.1791874612333309,
          0.17103452479004563,
          0.15247854953760795
         ],
         "yaxis": "y"
        },
        {
         "hovertemplate": "retraining=All Data<br>step=%{x}<br>mse=%{y}<extra></extra>",
         "legendgroup": "All Data",
         "line": {
          "color": "#EF553B",
          "dash": "solid"
         },
         "marker": {
          "symbol": "circle"
         },
         "mode": "lines",
         "name": "All Data",
         "orientation": "v",
         "showlegend": true,
         "type": "scatter",
         "x": [
          0,
          1,
          2,
          3,
          4,
          5,
          6,
          7,
          8,
          9,
          10,
          11,
          12,
          13,
          14,
          15,
          16,
          17,
          18,
          19,
          20,
          21,
          22,
          23,
          24,
          25,
          26,
          27,
          28,
          29,
          30,
          31,
          32,
          33,
          34,
          35,
          36,
          37,
          38,
          39,
          40,
          41,
          42,
          43,
          44,
          45,
          46,
          47,
          48,
          49,
          50,
          51,
          52,
          53,
          54,
          55,
          56,
          57,
          58,
          59,
          60,
          61,
          62,
          63,
          64,
          65,
          66,
          67,
          68,
          69,
          70,
          71,
          72,
          73,
          74,
          75,
          76,
          77,
          78,
          79,
          80,
          81,
          82,
          83,
          84,
          85,
          86,
          87,
          88,
          89,
          90,
          91,
          92,
          93,
          94,
          95,
          96,
          97,
          98,
          99
         ],
         "xaxis": "x",
         "y": [
          0.00008459633208926172,
          0.00008452720310820224,
          0.0000674622527932998,
          0.00008503729225367197,
          0.00012192329581445872,
          0.00010002724458219083,
          0.00008924346321814574,
          0.00007899176156907076,
          0.00011380603447234346,
          0.00011909173687448624,
          0.00009975042942786595,
          0.00011660078928893323,
          0.00010553217313741579,
          0.00008347612200422741,
          0.00007324602212771242,
          0.00010085133515491534,
          0.00011832639051673026,
          0.00010096975599718895,
          0.00007611641732562795,
          0.00010145755671122612,
          0.041111699714629656,
          0.047442711311528406,
          0.041189435211485666,
          0.05106835487845068,
          0.04378701527136856,
          0.04185051184583574,
          0.04265012787624701,
          0.04951661696206174,
          0.04042650955791597,
          0.03883181098718532,
          0.036061320931851465,
          0.04783787572154756,
          0.04290123373683074,
          0.04835457482027599,
          0.04143535604153263,
          0.04449189206769407,
          0.036238253568083606,
          0.03953733618228078,
          0.042600074847239176,
          0.13241235421052583,
          0.0612467956580046,
          0.06378346971064854,
          0.05094889683887624,
          0.04299411147056885,
          0.046491744261681955,
          0.04136257134377069,
          0.04383876746411775,
          0.04503437062691079,
          0.03820418445828647,
          0.04408147149002957,
          0.04338275446456483,
          0.046952167599673834,
          0.03997539994381204,
          0.04086830005165597,
          0.036078856164305236,
          0.03305006318456501,
          0.038770794131025625,
          0.04480209789688704,
          0.035040300720571405,
          0.038660243139697355,
          0.034021945391884405,
          0.041493111957557456,
          0.0327409776282214,
          0.036000680039492694,
          0.03123586022788111,
          0.04145107867195297,
          0.02367385069039953,
          0.03447437332982196,
          0.03530652738745496,
          0.03826083392729117,
          0.02731464188957863,
          0.03648480243815713,
          0.03993795637263242,
          0.03905766184640751,
          0.030304313453383358,
          0.02966329933518624,
          0.032914109415680785,
          0.036548503784246594,
          0.03203649871727477,
          0.03918257836439862,
          0.03618286697828616,
          0.03626865683301421,
          0.036024581317359264,
          0.03423598041233657,
          0.031293380641061956,
          0.03778577597270116,
          0.03693769425101703,
          0.0361634273167855,
          0.031194721176089263,
          0.03228935747561057,
          0.03834881829132395,
          0.03111703046575971,
          0.0337974037034898,
          0.03236051007309511,
          0.03404898543252945,
          0.031072814429614546,
          0.03357035961579268,
          0.030709445051561014,
          0.03592369028633246,
          0.030206772138493133
         ],
         "yaxis": "y"
        },
        {
         "hovertemplate": "retraining=Window<br>step=%{x}<br>mse=%{y}<extra></extra>",
         "legendgroup": "Window",
         "line": {
          "color": "#00cc96",
          "dash": "solid"
         },
         "marker": {
          "symbol": "circle"
         },
         "mode": "lines",
         "name": "Window",
         "orientation": "v",
         "showlegend": true,
         "type": "scatter",
         "x": [
          0,
          1,
          2,
          3,
          4,
          5,
          6,
          7,
          8,
          9,
          10,
          11,
          12,
          13,
          14,
          15,
          16,
          17,
          18,
          19,
          20,
          21,
          22,
          23,
          24,
          25,
          26,
          27,
          28,
          29,
          30,
          31,
          32,
          33,
          34,
          35,
          36,
          37,
          38,
          39,
          40,
          41,
          42,
          43,
          44,
          45,
          46,
          47,
          48,
          49,
          50,
          51,
          52,
          53,
          54,
          55,
          56,
          57,
          58,
          59,
          60,
          61,
          62,
          63,
          64,
          65,
          66,
          67,
          68,
          69,
          70,
          71,
          72,
          73,
          74,
          75,
          76,
          77,
          78,
          79,
          80,
          81,
          82,
          83,
          84,
          85,
          86,
          87,
          88,
          89,
          90,
          91,
          92,
          93,
          94,
          95,
          96,
          97,
          98,
          99
         ],
         "xaxis": "x",
         "y": [
          0.05329755174366557,
          0.053404935880104476,
          0.044770329028270744,
          0.00004257566747238768,
          0.000037645466135771884,
          0.00007777805225136156,
          0.00004016367401922624,
          0.00003556717879634471,
          0.000052731251193660565,
          0.000057156936787104404,
          0.00004748941805347039,
          0.000046057512293312416,
          0.0000760307515450771,
          0.00004097096168325664,
          0.00004265811220650021,
          0.00006479978983910356,
          0.00004872578789068879,
          0.00005017696010421535,
          0.00004585082358746697,
          0.00006385425403768955,
          0.044585945206151105,
          0.04927744507405776,
          0.04595922794367165,
          0.049264104012985484,
          0.04242031928419845,
          0.04875505544372126,
          0.04350121112195734,
          0.0494812943359931,
          0.05205069077906321,
          0.04693161611231064,
          0.04384186607185662,
          0.05284220271001444,
          0.0563199694195334,
          0.06035094649732255,
          0.048816576901710027,
          0.035442166966096374,
          0.04054521422739297,
          0.052156935896368176,
          0.05127201681791758,
          0.14301245779762592,
          0.06614229576207512,
          0.04425347634343418,
          0.04704827833613486,
          0.055754040234333294,
          0.05404662993133069,
          0.04667022346938927,
          0.0477604511095834,
          0.05256958793185574,
          0.04716261666223532,
          0.0635528744605923,
          0.04495070816354616,
          0.05216258603290357,
          0.03597715881895633,
          0.040619613092372456,
          0.045261282333970976,
          0.0377323049374934,
          0.04050160852062298,
          0.044759688840154924,
          0.03877227818679918,
          0.040473048336921495,
          0.039343365689738036,
          0.043256573007760694,
          0.03228287935315703,
          0.03824198828044826,
          0.03552552711228648,
          0.036642187035291866,
          0.02938148303570844,
          0.033417658707224775,
          0.03784794991399271,
          0.03761754552413289,
          0.037381485104245354,
          0.035115703527502415,
          0.04113194798733998,
          0.041309615599392294,
          0.030585756434833647,
          0.037256112047085864,
          0.03486281205528389,
          0.039875719799347696,
          0.0366243152780828,
          0.04431238067700088,
          0.03276665742808563,
          0.037239082785352505,
          0.039137306834479656,
          0.0331454292941208,
          0.04144040636560043,
          0.0474731082311312,
          0.040325713438480064,
          0.03391538253694103,
          0.03775032401906608,
          0.03019409483094179,
          0.04633064495066962,
          0.03274589329827117,
          0.03950269201596724,
          0.03885224959608992,
          0.03684477251674759,
          0.03810897497408925,
          0.036028668565645176,
          0.04182940621301463,
          0.043541198862569595,
          0.030613339609839408
         ],
         "yaxis": "y"
        }
       ],
       "layout": {
        "legend": {
         "title": {
          "text": "Retraining"
         },
         "tracegroupgap": 0
        },
        "template": {
         "data": {
          "bar": [
           {
            "error_x": {
             "color": "#2a3f5f"
            },
            "error_y": {
             "color": "#2a3f5f"
            },
            "marker": {
             "line": {
              "color": "#E5ECF6",
              "width": 0.5
             },
             "pattern": {
              "fillmode": "overlay",
              "size": 10,
              "solidity": 0.2
             }
            },
            "type": "bar"
           }
          ],
          "barpolar": [
           {
            "marker": {
             "line": {
              "color": "#E5ECF6",
              "width": 0.5
             },
             "pattern": {
              "fillmode": "overlay",
              "size": 10,
              "solidity": 0.2
             }
            },
            "type": "barpolar"
           }
          ],
          "carpet": [
           {
            "aaxis": {
             "endlinecolor": "#2a3f5f",
             "gridcolor": "white",
             "linecolor": "white",
             "minorgridcolor": "white",
             "startlinecolor": "#2a3f5f"
            },
            "baxis": {
             "endlinecolor": "#2a3f5f",
             "gridcolor": "white",
             "linecolor": "white",
             "minorgridcolor": "white",
             "startlinecolor": "#2a3f5f"
            },
            "type": "carpet"
           }
          ],
          "choropleth": [
           {
            "colorbar": {
             "outlinewidth": 0,
             "ticks": ""
            },
            "type": "choropleth"
           }
          ],
          "contour": [
           {
            "colorbar": {
             "outlinewidth": 0,
             "ticks": ""
            },
            "colorscale": [
             [
              0,
              "#0d0887"
             ],
             [
              0.1111111111111111,
              "#46039f"
             ],
             [
              0.2222222222222222,
              "#7201a8"
             ],
             [
              0.3333333333333333,
              "#9c179e"
             ],
             [
              0.4444444444444444,
              "#bd3786"
             ],
             [
              0.5555555555555556,
              "#d8576b"
             ],
             [
              0.6666666666666666,
              "#ed7953"
             ],
             [
              0.7777777777777778,
              "#fb9f3a"
             ],
             [
              0.8888888888888888,
              "#fdca26"
             ],
             [
              1,
              "#f0f921"
             ]
            ],
            "type": "contour"
           }
          ],
          "contourcarpet": [
           {
            "colorbar": {
             "outlinewidth": 0,
             "ticks": ""
            },
            "type": "contourcarpet"
           }
          ],
          "heatmap": [
           {
            "colorbar": {
             "outlinewidth": 0,
             "ticks": ""
            },
            "colorscale": [
             [
              0,
              "#0d0887"
             ],
             [
              0.1111111111111111,
              "#46039f"
             ],
             [
              0.2222222222222222,
              "#7201a8"
             ],
             [
              0.3333333333333333,
              "#9c179e"
             ],
             [
              0.4444444444444444,
              "#bd3786"
             ],
             [
              0.5555555555555556,
              "#d8576b"
             ],
             [
              0.6666666666666666,
              "#ed7953"
             ],
             [
              0.7777777777777778,
              "#fb9f3a"
             ],
             [
              0.8888888888888888,
              "#fdca26"
             ],
             [
              1,
              "#f0f921"
             ]
            ],
            "type": "heatmap"
           }
          ],
          "heatmapgl": [
           {
            "colorbar": {
             "outlinewidth": 0,
             "ticks": ""
            },
            "colorscale": [
             [
              0,
              "#0d0887"
             ],
             [
              0.1111111111111111,
              "#46039f"
             ],
             [
              0.2222222222222222,
              "#7201a8"
             ],
             [
              0.3333333333333333,
              "#9c179e"
             ],
             [
              0.4444444444444444,
              "#bd3786"
             ],
             [
              0.5555555555555556,
              "#d8576b"
             ],
             [
              0.6666666666666666,
              "#ed7953"
             ],
             [
              0.7777777777777778,
              "#fb9f3a"
             ],
             [
              0.8888888888888888,
              "#fdca26"
             ],
             [
              1,
              "#f0f921"
             ]
            ],
            "type": "heatmapgl"
           }
          ],
          "histogram": [
           {
            "marker": {
             "pattern": {
              "fillmode": "overlay",
              "size": 10,
              "solidity": 0.2
             }
            },
            "type": "histogram"
           }
          ],
          "histogram2d": [
           {
            "colorbar": {
             "outlinewidth": 0,
             "ticks": ""
            },
            "colorscale": [
             [
              0,
              "#0d0887"
             ],
             [
              0.1111111111111111,
              "#46039f"
             ],
             [
              0.2222222222222222,
              "#7201a8"
             ],
             [
              0.3333333333333333,
              "#9c179e"
             ],
             [
              0.4444444444444444,
              "#bd3786"
             ],
             [
              0.5555555555555556,
              "#d8576b"
             ],
             [
              0.6666666666666666,
              "#ed7953"
             ],
             [
              0.7777777777777778,
              "#fb9f3a"
             ],
             [
              0.8888888888888888,
              "#fdca26"
             ],
             [
              1,
              "#f0f921"
             ]
            ],
            "type": "histogram2d"
           }
          ],
          "histogram2dcontour": [
           {
            "colorbar": {
             "outlinewidth": 0,
             "ticks": ""
            },
            "colorscale": [
             [
              0,
              "#0d0887"
             ],
             [
              0.1111111111111111,
              "#46039f"
             ],
             [
              0.2222222222222222,
              "#7201a8"
             ],
             [
              0.3333333333333333,
              "#9c179e"
             ],
             [
              0.4444444444444444,
              "#bd3786"
             ],
             [
              0.5555555555555556,
              "#d8576b"
             ],
             [
              0.6666666666666666,
              "#ed7953"
             ],
             [
              0.7777777777777778,
              "#fb9f3a"
             ],
             [
              0.8888888888888888,
              "#fdca26"
             ],
             [
              1,
              "#f0f921"
             ]
            ],
            "type": "histogram2dcontour"
           }
          ],
          "mesh3d": [
           {
            "colorbar": {
             "outlinewidth": 0,
             "ticks": ""
            },
            "type": "mesh3d"
           }
          ],
          "parcoords": [
           {
            "line": {
             "colorbar": {
              "outlinewidth": 0,
              "ticks": ""
             }
            },
            "type": "parcoords"
           }
          ],
          "pie": [
           {
            "automargin": true,
            "type": "pie"
           }
          ],
          "scatter": [
           {
            "fillpattern": {
             "fillmode": "overlay",
             "size": 10,
             "solidity": 0.2
            },
            "type": "scatter"
           }
          ],
          "scatter3d": [
           {
            "line": {
             "colorbar": {
              "outlinewidth": 0,
              "ticks": ""
             }
            },
            "marker": {
             "colorbar": {
              "outlinewidth": 0,
              "ticks": ""
             }
            },
            "type": "scatter3d"
           }
          ],
          "scattercarpet": [
           {
            "marker": {
             "colorbar": {
              "outlinewidth": 0,
              "ticks": ""
             }
            },
            "type": "scattercarpet"
           }
          ],
          "scattergeo": [
           {
            "marker": {
             "colorbar": {
              "outlinewidth": 0,
              "ticks": ""
             }
            },
            "type": "scattergeo"
           }
          ],
          "scattergl": [
           {
            "marker": {
             "colorbar": {
              "outlinewidth": 0,
              "ticks": ""
             }
            },
            "type": "scattergl"
           }
          ],
          "scattermapbox": [
           {
            "marker": {
             "colorbar": {
              "outlinewidth": 0,
              "ticks": ""
             }
            },
            "type": "scattermapbox"
           }
          ],
          "scatterpolar": [
           {
            "marker": {
             "colorbar": {
              "outlinewidth": 0,
              "ticks": ""
             }
            },
            "type": "scatterpolar"
           }
          ],
          "scatterpolargl": [
           {
            "marker": {
             "colorbar": {
              "outlinewidth": 0,
              "ticks": ""
             }
            },
            "type": "scatterpolargl"
           }
          ],
          "scatterternary": [
           {
            "marker": {
             "colorbar": {
              "outlinewidth": 0,
              "ticks": ""
             }
            },
            "type": "scatterternary"
           }
          ],
          "surface": [
           {
            "colorbar": {
             "outlinewidth": 0,
             "ticks": ""
            },
            "colorscale": [
             [
              0,
              "#0d0887"
             ],
             [
              0.1111111111111111,
              "#46039f"
             ],
             [
              0.2222222222222222,
              "#7201a8"
             ],
             [
              0.3333333333333333,
              "#9c179e"
             ],
             [
              0.4444444444444444,
              "#bd3786"
             ],
             [
              0.5555555555555556,
              "#d8576b"
             ],
             [
              0.6666666666666666,
              "#ed7953"
             ],
             [
              0.7777777777777778,
              "#fb9f3a"
             ],
             [
              0.8888888888888888,
              "#fdca26"
             ],
             [
              1,
              "#f0f921"
             ]
            ],
            "type": "surface"
           }
          ],
          "table": [
           {
            "cells": {
             "fill": {
              "color": "#EBF0F8"
             },
             "line": {
              "color": "white"
             }
            },
            "header": {
             "fill": {
              "color": "#C8D4E3"
             },
             "line": {
              "color": "white"
             }
            },
            "type": "table"
           }
          ]
         },
         "layout": {
          "annotationdefaults": {
           "arrowcolor": "#2a3f5f",
           "arrowhead": 0,
           "arrowwidth": 1
          },
          "autotypenumbers": "strict",
          "coloraxis": {
           "colorbar": {
            "outlinewidth": 0,
            "ticks": ""
           }
          },
          "colorscale": {
           "diverging": [
            [
             0,
             "#8e0152"
            ],
            [
             0.1,
             "#c51b7d"
            ],
            [
             0.2,
             "#de77ae"
            ],
            [
             0.3,
             "#f1b6da"
            ],
            [
             0.4,
             "#fde0ef"
            ],
            [
             0.5,
             "#f7f7f7"
            ],
            [
             0.6,
             "#e6f5d0"
            ],
            [
             0.7,
             "#b8e186"
            ],
            [
             0.8,
             "#7fbc41"
            ],
            [
             0.9,
             "#4d9221"
            ],
            [
             1,
             "#276419"
            ]
           ],
           "sequential": [
            [
             0,
             "#0d0887"
            ],
            [
             0.1111111111111111,
             "#46039f"
            ],
            [
             0.2222222222222222,
             "#7201a8"
            ],
            [
             0.3333333333333333,
             "#9c179e"
            ],
            [
             0.4444444444444444,
             "#bd3786"
            ],
            [
             0.5555555555555556,
             "#d8576b"
            ],
            [
             0.6666666666666666,
             "#ed7953"
            ],
            [
             0.7777777777777778,
             "#fb9f3a"
            ],
            [
             0.8888888888888888,
             "#fdca26"
            ],
            [
             1,
             "#f0f921"
            ]
           ],
           "sequentialminus": [
            [
             0,
             "#0d0887"
            ],
            [
             0.1111111111111111,
             "#46039f"
            ],
            [
             0.2222222222222222,
             "#7201a8"
            ],
            [
             0.3333333333333333,
             "#9c179e"
            ],
            [
             0.4444444444444444,
             "#bd3786"
            ],
            [
             0.5555555555555556,
             "#d8576b"
            ],
            [
             0.6666666666666666,
             "#ed7953"
            ],
            [
             0.7777777777777778,
             "#fb9f3a"
            ],
            [
             0.8888888888888888,
             "#fdca26"
            ],
            [
             1,
             "#f0f921"
            ]
           ]
          },
          "colorway": [
           "#636efa",
           "#EF553B",
           "#00cc96",
           "#ab63fa",
           "#FFA15A",
           "#19d3f3",
           "#FF6692",
           "#B6E880",
           "#FF97FF",
           "#FECB52"
          ],
          "font": {
           "color": "#2a3f5f"
          },
          "geo": {
           "bgcolor": "white",
           "lakecolor": "white",
           "landcolor": "#E5ECF6",
           "showlakes": true,
           "showland": true,
           "subunitcolor": "white"
          },
          "hoverlabel": {
           "align": "left"
          },
          "hovermode": "closest",
          "mapbox": {
           "style": "light"
          },
          "paper_bgcolor": "white",
          "plot_bgcolor": "#E5ECF6",
          "polar": {
           "angularaxis": {
            "gridcolor": "white",
            "linecolor": "white",
            "ticks": ""
           },
           "bgcolor": "#E5ECF6",
           "radialaxis": {
            "gridcolor": "white",
            "linecolor": "white",
            "ticks": ""
           }
          },
          "scene": {
           "xaxis": {
            "backgroundcolor": "#E5ECF6",
            "gridcolor": "white",
            "gridwidth": 2,
            "linecolor": "white",
            "showbackground": true,
            "ticks": "",
            "zerolinecolor": "white"
           },
           "yaxis": {
            "backgroundcolor": "#E5ECF6",
            "gridcolor": "white",
            "gridwidth": 2,
            "linecolor": "white",
            "showbackground": true,
            "ticks": "",
            "zerolinecolor": "white"
           },
           "zaxis": {
            "backgroundcolor": "#E5ECF6",
            "gridcolor": "white",
            "gridwidth": 2,
            "linecolor": "white",
            "showbackground": true,
            "ticks": "",
            "zerolinecolor": "white"
           }
          },
          "shapedefaults": {
           "line": {
            "color": "#2a3f5f"
           }
          },
          "ternary": {
           "aaxis": {
            "gridcolor": "white",
            "linecolor": "white",
            "ticks": ""
           },
           "baxis": {
            "gridcolor": "white",
            "linecolor": "white",
            "ticks": ""
           },
           "bgcolor": "#E5ECF6",
           "caxis": {
            "gridcolor": "white",
            "linecolor": "white",
            "ticks": ""
           }
          },
          "title": {
           "x": 0.05
          },
          "xaxis": {
           "automargin": true,
           "gridcolor": "white",
           "linecolor": "white",
           "ticks": "",
           "title": {
            "standoff": 15
           },
           "zerolinecolor": "white",
           "zerolinewidth": 2
          },
          "yaxis": {
           "automargin": true,
           "gridcolor": "white",
           "linecolor": "white",
           "ticks": "",
           "title": {
            "standoff": 15
           },
           "zerolinecolor": "white",
           "zerolinewidth": 2
          }
         }
        },
        "title": {
         "text": "Black Swan Scenario"
        },
        "xaxis": {
         "anchor": "y",
         "domain": [
          0,
          1
         ],
         "title": {
          "text": "Step"
         }
        },
        "yaxis": {
         "anchor": "x",
         "domain": [
          0,
          1
         ],
         "title": {
          "text": "MSE"
         }
        }
       }
      }
     },
     "metadata": {},
     "output_type": "display_data"
    }
   ],
   "source": [
    "plot_df = eval_df.loc[eval_df['scenario'] == 'Black Swan']  \n",
    "fig = line(plot_df, x='step', y='mse', color='retraining', title='Black Swan Scenario')\n",
    "fig.update_layout(xaxis_title='Step', yaxis_title='MSE', legend_title_text='Retraining')\n",
    "fig.show()"
   ]
  },
  {
   "cell_type": "code",
   "execution_count": 10,
   "metadata": {},
   "outputs": [],
   "source": [
    "# analyse training data\n",
    "dist_drift_df = features['Dist Shift']\n",
    "lin_coef_df = features['Linear Coefs']"
   ]
  },
  {
   "cell_type": "code",
   "execution_count": 11,
   "metadata": {},
   "outputs": [],
   "source": [
    "# define steps per set\n",
    "first_steps = [0, 9]\n",
    "second_steps = [10, 19]"
   ]
  },
  {
   "cell_type": "code",
   "execution_count": 12,
   "metadata": {},
   "outputs": [
    {
     "data": {
      "text/html": [
       "<div>\n",
       "<style scoped>\n",
       "    .dataframe tbody tr th:only-of-type {\n",
       "        vertical-align: middle;\n",
       "    }\n",
       "\n",
       "    .dataframe tbody tr th {\n",
       "        vertical-align: top;\n",
       "    }\n",
       "\n",
       "    .dataframe thead th {\n",
       "        text-align: right;\n",
       "    }\n",
       "</style>\n",
       "<table border=\"1\" class=\"dataframe\">\n",
       "  <thead>\n",
       "    <tr style=\"text-align: right;\">\n",
       "      <th></th>\n",
       "      <th>feature</th>\n",
       "      <th>mean_1</th>\n",
       "      <th>std_1</th>\n",
       "      <th>mean_2</th>\n",
       "      <th>std_2</th>\n",
       "      <th>mean_diff</th>\n",
       "      <th>std_diff</th>\n",
       "      <th>dataset</th>\n",
       "    </tr>\n",
       "  </thead>\n",
       "  <tbody>\n",
       "    <tr>\n",
       "      <th>0</th>\n",
       "      <td>feature_0</td>\n",
       "      <td>0.493412</td>\n",
       "      <td>0.159481</td>\n",
       "      <td>0.441654</td>\n",
       "      <td>0.152272</td>\n",
       "      <td>-0.051757</td>\n",
       "      <td>-0.007209</td>\n",
       "      <td>Distribution Drift</td>\n",
       "    </tr>\n",
       "    <tr>\n",
       "      <th>1</th>\n",
       "      <td>feature_1</td>\n",
       "      <td>0.455728</td>\n",
       "      <td>0.137839</td>\n",
       "      <td>0.408227</td>\n",
       "      <td>0.144593</td>\n",
       "      <td>-0.047501</td>\n",
       "      <td>0.006754</td>\n",
       "      <td>Distribution Drift</td>\n",
       "    </tr>\n",
       "    <tr>\n",
       "      <th>2</th>\n",
       "      <td>feature_2</td>\n",
       "      <td>0.485214</td>\n",
       "      <td>0.150871</td>\n",
       "      <td>0.458013</td>\n",
       "      <td>0.138662</td>\n",
       "      <td>-0.027201</td>\n",
       "      <td>-0.012209</td>\n",
       "      <td>Distribution Drift</td>\n",
       "    </tr>\n",
       "    <tr>\n",
       "      <th>3</th>\n",
       "      <td>feature_3</td>\n",
       "      <td>0.474982</td>\n",
       "      <td>0.156290</td>\n",
       "      <td>0.520072</td>\n",
       "      <td>0.153257</td>\n",
       "      <td>0.045090</td>\n",
       "      <td>-0.003033</td>\n",
       "      <td>Distribution Drift</td>\n",
       "    </tr>\n",
       "    <tr>\n",
       "      <th>4</th>\n",
       "      <td>feature_4</td>\n",
       "      <td>0.553690</td>\n",
       "      <td>0.141902</td>\n",
       "      <td>0.529812</td>\n",
       "      <td>0.145734</td>\n",
       "      <td>-0.023879</td>\n",
       "      <td>0.003832</td>\n",
       "      <td>Distribution Drift</td>\n",
       "    </tr>\n",
       "  </tbody>\n",
       "</table>\n",
       "</div>"
      ],
      "text/plain": [
       "     feature    mean_1     std_1    mean_2     std_2  mean_diff  std_diff  \\\n",
       "0  feature_0  0.493412  0.159481  0.441654  0.152272  -0.051757 -0.007209   \n",
       "1  feature_1  0.455728  0.137839  0.408227  0.144593  -0.047501  0.006754   \n",
       "2  feature_2  0.485214  0.150871  0.458013  0.138662  -0.027201 -0.012209   \n",
       "3  feature_3  0.474982  0.156290  0.520072  0.153257   0.045090 -0.003033   \n",
       "4  feature_4  0.553690  0.141902  0.529812  0.145734  -0.023879  0.003832   \n",
       "\n",
       "              dataset  \n",
       "0  Distribution Drift  \n",
       "1  Distribution Drift  \n",
       "2  Distribution Drift  \n",
       "3  Distribution Drift  \n",
       "4  Distribution Drift  "
      ]
     },
     "execution_count": 12,
     "metadata": {},
     "output_type": "execute_result"
    }
   ],
   "source": [
    "dist_drift_agg_df = agg_feature(dist_drift_df, first_steps, second_steps)\n",
    "lin_coef_agg_df = agg_feature(lin_coef_df, first_steps, second_steps)\n",
    "\n",
    "# combine dataframes\n",
    "dist_drift_agg_df['dataset'] = 'Distribution Drift'\n",
    "lin_coef_agg_df['dataset'] = 'Linear Coefficients'\n",
    "\n",
    "agg_df = pd.concat([dist_drift_agg_df, lin_coef_agg_df], ignore_index=True)\n",
    "\n",
    "agg_df.head()"
   ]
  },
  {
   "cell_type": "code",
   "execution_count": 28,
   "metadata": {},
   "outputs": [
    {
     "data": {
      "application/vnd.plotly.v1+json": {
       "config": {
        "plotlyServerURL": "https://plot.ly"
       },
       "data": [
        {
         "alignmentgroup": "True",
         "hovertemplate": "dataset=%{x}<br>std_diff=%{y}<extra></extra>",
         "legendgroup": "",
         "marker": {
          "color": "#636efa"
         },
         "name": "",
         "notched": false,
         "offsetgroup": "",
         "orientation": "v",
         "showlegend": false,
         "type": "box",
         "x": [
          "Distribution Drift",
          "Distribution Drift",
          "Distribution Drift",
          "Distribution Drift",
          "Distribution Drift",
          "Distribution Drift",
          "Distribution Drift",
          "Distribution Drift",
          "Distribution Drift",
          "Distribution Drift",
          "Distribution Drift",
          "Distribution Drift",
          "Distribution Drift",
          "Distribution Drift",
          "Distribution Drift",
          "Distribution Drift",
          "Distribution Drift",
          "Distribution Drift",
          "Distribution Drift",
          "Distribution Drift",
          "Distribution Drift",
          "Distribution Drift",
          "Distribution Drift",
          "Distribution Drift",
          "Distribution Drift",
          "Distribution Drift",
          "Distribution Drift",
          "Distribution Drift",
          "Distribution Drift",
          "Distribution Drift",
          "Distribution Drift",
          "Distribution Drift",
          "Distribution Drift",
          "Distribution Drift",
          "Distribution Drift",
          "Distribution Drift",
          "Distribution Drift",
          "Distribution Drift",
          "Distribution Drift",
          "Distribution Drift",
          "Distribution Drift",
          "Distribution Drift",
          "Distribution Drift",
          "Distribution Drift",
          "Distribution Drift",
          "Distribution Drift",
          "Distribution Drift",
          "Distribution Drift",
          "Distribution Drift",
          "Distribution Drift",
          "Linear Coefficients",
          "Linear Coefficients",
          "Linear Coefficients",
          "Linear Coefficients",
          "Linear Coefficients",
          "Linear Coefficients",
          "Linear Coefficients",
          "Linear Coefficients",
          "Linear Coefficients",
          "Linear Coefficients",
          "Linear Coefficients",
          "Linear Coefficients",
          "Linear Coefficients",
          "Linear Coefficients",
          "Linear Coefficients",
          "Linear Coefficients",
          "Linear Coefficients",
          "Linear Coefficients",
          "Linear Coefficients",
          "Linear Coefficients",
          "Linear Coefficients",
          "Linear Coefficients",
          "Linear Coefficients",
          "Linear Coefficients",
          "Linear Coefficients",
          "Linear Coefficients",
          "Linear Coefficients",
          "Linear Coefficients",
          "Linear Coefficients",
          "Linear Coefficients",
          "Linear Coefficients",
          "Linear Coefficients",
          "Linear Coefficients",
          "Linear Coefficients",
          "Linear Coefficients",
          "Linear Coefficients",
          "Linear Coefficients",
          "Linear Coefficients",
          "Linear Coefficients",
          "Linear Coefficients",
          "Linear Coefficients",
          "Linear Coefficients",
          "Linear Coefficients",
          "Linear Coefficients",
          "Linear Coefficients",
          "Linear Coefficients",
          "Linear Coefficients",
          "Linear Coefficients",
          "Linear Coefficients",
          "Linear Coefficients"
         ],
         "x0": " ",
         "xaxis": "x",
         "y": [
          -0.007209235380633033,
          0.006753983696775323,
          -0.012208657528417016,
          -0.0030332590285532535,
          0.003832328887042019,
          -0.005954973724770218,
          0.008619843547045092,
          -0.005161945987467442,
          0.0036716944845018307,
          -0.006480685864781122,
          -0.006931912517455396,
          0.0007919195277062141,
          0.0052143313674444525,
          0.0028366890111301,
          -0.000038977788033606187,
          -0.004036346472946567,
          -0.00478034593951826,
          0.002586196677621805,
          0.002467493527495479,
          -0.00038346522755153267,
          -0.006442573564936188,
          -0.005624340735809086,
          -0.01007941563483547,
          -0.0035133486400933944,
          -0.004926723850390363,
          -0.00048598086997339585,
          0.003253679550535904,
          -0.010553139657255878,
          -0.010387171854543992,
          0.01630948170990551,
          -0.010695640002100326,
          0.052304883925321954,
          -0.00937157807831665,
          -0.003405652977942847,
          -0.006653658724617678,
          0.022575570151996696,
          -0.005871727920917391,
          0.0021728356813957295,
          0.015763199106176906,
          -0.0045505968994226376,
          0.002354055784250686,
          -0.010655035195883733,
          -0.00546483710525697,
          0.011890085376888793,
          0.009142065295720148,
          0.01608233117131755,
          -0.004076330774086673,
          -0.0157750122063538,
          0.005475773315282317,
          0.0009809540421250595,
          0.0008872268137418149,
          -0.0023427877991679114,
          -0.001502782301068234,
          0.004799299945746377,
          0.0021137914609127284,
          -0.004716973800776014,
          0.003536891170656975,
          0.0013884458693337876,
          -0.004666105680454002,
          0.0009909272972558059,
          -0.0039106319381182475,
          -0.004211316933729156,
          -0.00034623904375535863,
          -0.0004399449785436049,
          0.010102851841054472,
          -0.001967537857773982,
          -0.0016166035899112252,
          -0.00260925417648894,
          0.0012349736064145578,
          0.002902718488260181,
          -0.0016810081714766223,
          0.0034649230596165426,
          0.0021638356292294214,
          0.002898107770794134,
          -0.00306477759096338,
          0.0001598272022442504,
          -0.0005044565693831937,
          -0.0023548192833893755,
          -0.005940284430407117,
          0.009936231581373356,
          0.002879009535388277,
          0.006265158926015174,
          0.00046783397460056775,
          -0.0021097611653202453,
          -0.0038124546550215577,
          0.0024345267570009543,
          -0.005429801431367953,
          -0.0003860705878588888,
          0.003910060591895831,
          0.002961163442358028,
          0.008777296338278812,
          -0.0019451601108000094,
          0.002563115751726408,
          -0.0019254762251346147,
          0.01180412709821349,
          0.0033820652553209207,
          -0.0036929918880839463,
          0.0005077269224896819,
          -0.002164219671553169,
          -0.0012442145666853865
         ],
         "y0": " ",
         "yaxis": "y"
        }
       ],
       "layout": {
        "boxmode": "group",
        "legend": {
         "tracegroupgap": 0
        },
        "template": {
         "data": {
          "bar": [
           {
            "error_x": {
             "color": "#2a3f5f"
            },
            "error_y": {
             "color": "#2a3f5f"
            },
            "marker": {
             "line": {
              "color": "#E5ECF6",
              "width": 0.5
             },
             "pattern": {
              "fillmode": "overlay",
              "size": 10,
              "solidity": 0.2
             }
            },
            "type": "bar"
           }
          ],
          "barpolar": [
           {
            "marker": {
             "line": {
              "color": "#E5ECF6",
              "width": 0.5
             },
             "pattern": {
              "fillmode": "overlay",
              "size": 10,
              "solidity": 0.2
             }
            },
            "type": "barpolar"
           }
          ],
          "carpet": [
           {
            "aaxis": {
             "endlinecolor": "#2a3f5f",
             "gridcolor": "white",
             "linecolor": "white",
             "minorgridcolor": "white",
             "startlinecolor": "#2a3f5f"
            },
            "baxis": {
             "endlinecolor": "#2a3f5f",
             "gridcolor": "white",
             "linecolor": "white",
             "minorgridcolor": "white",
             "startlinecolor": "#2a3f5f"
            },
            "type": "carpet"
           }
          ],
          "choropleth": [
           {
            "colorbar": {
             "outlinewidth": 0,
             "ticks": ""
            },
            "type": "choropleth"
           }
          ],
          "contour": [
           {
            "colorbar": {
             "outlinewidth": 0,
             "ticks": ""
            },
            "colorscale": [
             [
              0,
              "#0d0887"
             ],
             [
              0.1111111111111111,
              "#46039f"
             ],
             [
              0.2222222222222222,
              "#7201a8"
             ],
             [
              0.3333333333333333,
              "#9c179e"
             ],
             [
              0.4444444444444444,
              "#bd3786"
             ],
             [
              0.5555555555555556,
              "#d8576b"
             ],
             [
              0.6666666666666666,
              "#ed7953"
             ],
             [
              0.7777777777777778,
              "#fb9f3a"
             ],
             [
              0.8888888888888888,
              "#fdca26"
             ],
             [
              1,
              "#f0f921"
             ]
            ],
            "type": "contour"
           }
          ],
          "contourcarpet": [
           {
            "colorbar": {
             "outlinewidth": 0,
             "ticks": ""
            },
            "type": "contourcarpet"
           }
          ],
          "heatmap": [
           {
            "colorbar": {
             "outlinewidth": 0,
             "ticks": ""
            },
            "colorscale": [
             [
              0,
              "#0d0887"
             ],
             [
              0.1111111111111111,
              "#46039f"
             ],
             [
              0.2222222222222222,
              "#7201a8"
             ],
             [
              0.3333333333333333,
              "#9c179e"
             ],
             [
              0.4444444444444444,
              "#bd3786"
             ],
             [
              0.5555555555555556,
              "#d8576b"
             ],
             [
              0.6666666666666666,
              "#ed7953"
             ],
             [
              0.7777777777777778,
              "#fb9f3a"
             ],
             [
              0.8888888888888888,
              "#fdca26"
             ],
             [
              1,
              "#f0f921"
             ]
            ],
            "type": "heatmap"
           }
          ],
          "heatmapgl": [
           {
            "colorbar": {
             "outlinewidth": 0,
             "ticks": ""
            },
            "colorscale": [
             [
              0,
              "#0d0887"
             ],
             [
              0.1111111111111111,
              "#46039f"
             ],
             [
              0.2222222222222222,
              "#7201a8"
             ],
             [
              0.3333333333333333,
              "#9c179e"
             ],
             [
              0.4444444444444444,
              "#bd3786"
             ],
             [
              0.5555555555555556,
              "#d8576b"
             ],
             [
              0.6666666666666666,
              "#ed7953"
             ],
             [
              0.7777777777777778,
              "#fb9f3a"
             ],
             [
              0.8888888888888888,
              "#fdca26"
             ],
             [
              1,
              "#f0f921"
             ]
            ],
            "type": "heatmapgl"
           }
          ],
          "histogram": [
           {
            "marker": {
             "pattern": {
              "fillmode": "overlay",
              "size": 10,
              "solidity": 0.2
             }
            },
            "type": "histogram"
           }
          ],
          "histogram2d": [
           {
            "colorbar": {
             "outlinewidth": 0,
             "ticks": ""
            },
            "colorscale": [
             [
              0,
              "#0d0887"
             ],
             [
              0.1111111111111111,
              "#46039f"
             ],
             [
              0.2222222222222222,
              "#7201a8"
             ],
             [
              0.3333333333333333,
              "#9c179e"
             ],
             [
              0.4444444444444444,
              "#bd3786"
             ],
             [
              0.5555555555555556,
              "#d8576b"
             ],
             [
              0.6666666666666666,
              "#ed7953"
             ],
             [
              0.7777777777777778,
              "#fb9f3a"
             ],
             [
              0.8888888888888888,
              "#fdca26"
             ],
             [
              1,
              "#f0f921"
             ]
            ],
            "type": "histogram2d"
           }
          ],
          "histogram2dcontour": [
           {
            "colorbar": {
             "outlinewidth": 0,
             "ticks": ""
            },
            "colorscale": [
             [
              0,
              "#0d0887"
             ],
             [
              0.1111111111111111,
              "#46039f"
             ],
             [
              0.2222222222222222,
              "#7201a8"
             ],
             [
              0.3333333333333333,
              "#9c179e"
             ],
             [
              0.4444444444444444,
              "#bd3786"
             ],
             [
              0.5555555555555556,
              "#d8576b"
             ],
             [
              0.6666666666666666,
              "#ed7953"
             ],
             [
              0.7777777777777778,
              "#fb9f3a"
             ],
             [
              0.8888888888888888,
              "#fdca26"
             ],
             [
              1,
              "#f0f921"
             ]
            ],
            "type": "histogram2dcontour"
           }
          ],
          "mesh3d": [
           {
            "colorbar": {
             "outlinewidth": 0,
             "ticks": ""
            },
            "type": "mesh3d"
           }
          ],
          "parcoords": [
           {
            "line": {
             "colorbar": {
              "outlinewidth": 0,
              "ticks": ""
             }
            },
            "type": "parcoords"
           }
          ],
          "pie": [
           {
            "automargin": true,
            "type": "pie"
           }
          ],
          "scatter": [
           {
            "fillpattern": {
             "fillmode": "overlay",
             "size": 10,
             "solidity": 0.2
            },
            "type": "scatter"
           }
          ],
          "scatter3d": [
           {
            "line": {
             "colorbar": {
              "outlinewidth": 0,
              "ticks": ""
             }
            },
            "marker": {
             "colorbar": {
              "outlinewidth": 0,
              "ticks": ""
             }
            },
            "type": "scatter3d"
           }
          ],
          "scattercarpet": [
           {
            "marker": {
             "colorbar": {
              "outlinewidth": 0,
              "ticks": ""
             }
            },
            "type": "scattercarpet"
           }
          ],
          "scattergeo": [
           {
            "marker": {
             "colorbar": {
              "outlinewidth": 0,
              "ticks": ""
             }
            },
            "type": "scattergeo"
           }
          ],
          "scattergl": [
           {
            "marker": {
             "colorbar": {
              "outlinewidth": 0,
              "ticks": ""
             }
            },
            "type": "scattergl"
           }
          ],
          "scattermapbox": [
           {
            "marker": {
             "colorbar": {
              "outlinewidth": 0,
              "ticks": ""
             }
            },
            "type": "scattermapbox"
           }
          ],
          "scatterpolar": [
           {
            "marker": {
             "colorbar": {
              "outlinewidth": 0,
              "ticks": ""
             }
            },
            "type": "scatterpolar"
           }
          ],
          "scatterpolargl": [
           {
            "marker": {
             "colorbar": {
              "outlinewidth": 0,
              "ticks": ""
             }
            },
            "type": "scatterpolargl"
           }
          ],
          "scatterternary": [
           {
            "marker": {
             "colorbar": {
              "outlinewidth": 0,
              "ticks": ""
             }
            },
            "type": "scatterternary"
           }
          ],
          "surface": [
           {
            "colorbar": {
             "outlinewidth": 0,
             "ticks": ""
            },
            "colorscale": [
             [
              0,
              "#0d0887"
             ],
             [
              0.1111111111111111,
              "#46039f"
             ],
             [
              0.2222222222222222,
              "#7201a8"
             ],
             [
              0.3333333333333333,
              "#9c179e"
             ],
             [
              0.4444444444444444,
              "#bd3786"
             ],
             [
              0.5555555555555556,
              "#d8576b"
             ],
             [
              0.6666666666666666,
              "#ed7953"
             ],
             [
              0.7777777777777778,
              "#fb9f3a"
             ],
             [
              0.8888888888888888,
              "#fdca26"
             ],
             [
              1,
              "#f0f921"
             ]
            ],
            "type": "surface"
           }
          ],
          "table": [
           {
            "cells": {
             "fill": {
              "color": "#EBF0F8"
             },
             "line": {
              "color": "white"
             }
            },
            "header": {
             "fill": {
              "color": "#C8D4E3"
             },
             "line": {
              "color": "white"
             }
            },
            "type": "table"
           }
          ]
         },
         "layout": {
          "annotationdefaults": {
           "arrowcolor": "#2a3f5f",
           "arrowhead": 0,
           "arrowwidth": 1
          },
          "autotypenumbers": "strict",
          "coloraxis": {
           "colorbar": {
            "outlinewidth": 0,
            "ticks": ""
           }
          },
          "colorscale": {
           "diverging": [
            [
             0,
             "#8e0152"
            ],
            [
             0.1,
             "#c51b7d"
            ],
            [
             0.2,
             "#de77ae"
            ],
            [
             0.3,
             "#f1b6da"
            ],
            [
             0.4,
             "#fde0ef"
            ],
            [
             0.5,
             "#f7f7f7"
            ],
            [
             0.6,
             "#e6f5d0"
            ],
            [
             0.7,
             "#b8e186"
            ],
            [
             0.8,
             "#7fbc41"
            ],
            [
             0.9,
             "#4d9221"
            ],
            [
             1,
             "#276419"
            ]
           ],
           "sequential": [
            [
             0,
             "#0d0887"
            ],
            [
             0.1111111111111111,
             "#46039f"
            ],
            [
             0.2222222222222222,
             "#7201a8"
            ],
            [
             0.3333333333333333,
             "#9c179e"
            ],
            [
             0.4444444444444444,
             "#bd3786"
            ],
            [
             0.5555555555555556,
             "#d8576b"
            ],
            [
             0.6666666666666666,
             "#ed7953"
            ],
            [
             0.7777777777777778,
             "#fb9f3a"
            ],
            [
             0.8888888888888888,
             "#fdca26"
            ],
            [
             1,
             "#f0f921"
            ]
           ],
           "sequentialminus": [
            [
             0,
             "#0d0887"
            ],
            [
             0.1111111111111111,
             "#46039f"
            ],
            [
             0.2222222222222222,
             "#7201a8"
            ],
            [
             0.3333333333333333,
             "#9c179e"
            ],
            [
             0.4444444444444444,
             "#bd3786"
            ],
            [
             0.5555555555555556,
             "#d8576b"
            ],
            [
             0.6666666666666666,
             "#ed7953"
            ],
            [
             0.7777777777777778,
             "#fb9f3a"
            ],
            [
             0.8888888888888888,
             "#fdca26"
            ],
            [
             1,
             "#f0f921"
            ]
           ]
          },
          "colorway": [
           "#636efa",
           "#EF553B",
           "#00cc96",
           "#ab63fa",
           "#FFA15A",
           "#19d3f3",
           "#FF6692",
           "#B6E880",
           "#FF97FF",
           "#FECB52"
          ],
          "font": {
           "color": "#2a3f5f"
          },
          "geo": {
           "bgcolor": "white",
           "lakecolor": "white",
           "landcolor": "#E5ECF6",
           "showlakes": true,
           "showland": true,
           "subunitcolor": "white"
          },
          "hoverlabel": {
           "align": "left"
          },
          "hovermode": "closest",
          "mapbox": {
           "style": "light"
          },
          "paper_bgcolor": "white",
          "plot_bgcolor": "#E5ECF6",
          "polar": {
           "angularaxis": {
            "gridcolor": "white",
            "linecolor": "white",
            "ticks": ""
           },
           "bgcolor": "#E5ECF6",
           "radialaxis": {
            "gridcolor": "white",
            "linecolor": "white",
            "ticks": ""
           }
          },
          "scene": {
           "xaxis": {
            "backgroundcolor": "#E5ECF6",
            "gridcolor": "white",
            "gridwidth": 2,
            "linecolor": "white",
            "showbackground": true,
            "ticks": "",
            "zerolinecolor": "white"
           },
           "yaxis": {
            "backgroundcolor": "#E5ECF6",
            "gridcolor": "white",
            "gridwidth": 2,
            "linecolor": "white",
            "showbackground": true,
            "ticks": "",
            "zerolinecolor": "white"
           },
           "zaxis": {
            "backgroundcolor": "#E5ECF6",
            "gridcolor": "white",
            "gridwidth": 2,
            "linecolor": "white",
            "showbackground": true,
            "ticks": "",
            "zerolinecolor": "white"
           }
          },
          "shapedefaults": {
           "line": {
            "color": "#2a3f5f"
           }
          },
          "ternary": {
           "aaxis": {
            "gridcolor": "white",
            "linecolor": "white",
            "ticks": ""
           },
           "baxis": {
            "gridcolor": "white",
            "linecolor": "white",
            "ticks": ""
           },
           "bgcolor": "#E5ECF6",
           "caxis": {
            "gridcolor": "white",
            "linecolor": "white",
            "ticks": ""
           }
          },
          "title": {
           "x": 0.05
          },
          "xaxis": {
           "automargin": true,
           "gridcolor": "white",
           "linecolor": "white",
           "ticks": "",
           "title": {
            "standoff": 15
           },
           "zerolinecolor": "white",
           "zerolinewidth": 2
          },
          "yaxis": {
           "automargin": true,
           "gridcolor": "white",
           "linecolor": "white",
           "ticks": "",
           "title": {
            "standoff": 15
           },
           "zerolinecolor": "white",
           "zerolinewidth": 2
          }
         }
        },
        "title": {
         "text": "Std Difference Distribution"
        },
        "xaxis": {
         "anchor": "y",
         "domain": [
          0,
          1
         ],
         "title": {
          "text": "Scenario"
         }
        },
        "yaxis": {
         "anchor": "x",
         "domain": [
          0,
          1
         ],
         "title": {
          "text": "Difference"
         }
        }
       }
      }
     },
     "metadata": {},
     "output_type": "display_data"
    }
   ],
   "source": [
    "fig = box(agg_df, x='dataset', y='std_diff', title='Std Difference Distribution')\n",
    "fig.update_layout(xaxis_title='Scenario', yaxis_title='Difference')\n",
    "fig.show()"
   ]
  },
  {
   "cell_type": "code",
   "execution_count": 29,
   "metadata": {},
   "outputs": [
    {
     "data": {
      "text/html": [
       "<div>\n",
       "<style scoped>\n",
       "    .dataframe tbody tr th:only-of-type {\n",
       "        vertical-align: middle;\n",
       "    }\n",
       "\n",
       "    .dataframe tbody tr th {\n",
       "        vertical-align: top;\n",
       "    }\n",
       "\n",
       "    .dataframe thead th {\n",
       "        text-align: right;\n",
       "    }\n",
       "</style>\n",
       "<table border=\"1\" class=\"dataframe\">\n",
       "  <thead>\n",
       "    <tr style=\"text-align: right;\">\n",
       "      <th></th>\n",
       "      <th>feature</th>\n",
       "      <th>scenario</th>\n",
       "      <th>importance_0</th>\n",
       "      <th>importance_1</th>\n",
       "      <th>importance_diff</th>\n",
       "    </tr>\n",
       "  </thead>\n",
       "  <tbody>\n",
       "    <tr>\n",
       "      <th>0</th>\n",
       "      <td>feature_0</td>\n",
       "      <td>Distribution Drift</td>\n",
       "      <td>0.002150</td>\n",
       "      <td>0.001315</td>\n",
       "      <td>-0.000834</td>\n",
       "    </tr>\n",
       "    <tr>\n",
       "      <th>1</th>\n",
       "      <td>feature_1</td>\n",
       "      <td>Distribution Drift</td>\n",
       "      <td>0.033051</td>\n",
       "      <td>0.021789</td>\n",
       "      <td>-0.011262</td>\n",
       "    </tr>\n",
       "    <tr>\n",
       "      <th>2</th>\n",
       "      <td>feature_2</td>\n",
       "      <td>Distribution Drift</td>\n",
       "      <td>0.019814</td>\n",
       "      <td>0.023561</td>\n",
       "      <td>0.003748</td>\n",
       "    </tr>\n",
       "    <tr>\n",
       "      <th>3</th>\n",
       "      <td>feature_3</td>\n",
       "      <td>Distribution Drift</td>\n",
       "      <td>0.225589</td>\n",
       "      <td>0.294468</td>\n",
       "      <td>0.068879</td>\n",
       "    </tr>\n",
       "    <tr>\n",
       "      <th>4</th>\n",
       "      <td>feature_4</td>\n",
       "      <td>Distribution Drift</td>\n",
       "      <td>0.001732</td>\n",
       "      <td>0.002412</td>\n",
       "      <td>0.000680</td>\n",
       "    </tr>\n",
       "  </tbody>\n",
       "</table>\n",
       "</div>"
      ],
      "text/plain": [
       "     feature            scenario  importance_0  importance_1  importance_diff\n",
       "0  feature_0  Distribution Drift      0.002150      0.001315        -0.000834\n",
       "1  feature_1  Distribution Drift      0.033051      0.021789        -0.011262\n",
       "2  feature_2  Distribution Drift      0.019814      0.023561         0.003748\n",
       "3  feature_3  Distribution Drift      0.225589      0.294468         0.068879\n",
       "4  feature_4  Distribution Drift      0.001732      0.002412         0.000680"
      ]
     },
     "execution_count": 29,
     "metadata": {},
     "output_type": "execute_result"
    }
   ],
   "source": [
    "# analyse feature importance\n",
    "model = XGBRegressor()\n",
    "\n",
    "df_lst = []\n",
    "for scenario in ['Dist Shift', 'Linear Coefs']:\n",
    "    scenario_df = features[scenario]\n",
    "    scenario_fi_df = pd.DataFrame({'feature': get_feature_cols(scenario_df)}).set_index('feature')\n",
    "    scenario_fi_df['scenario'] = {'Dist Shift': 'Distribution Drift', 'Linear Coefs': 'Linear Coefficients'}.get(scenario)\n",
    "    for i, steps in enumerate([first_steps, second_steps]):\n",
    "        train_df = scenario_df.loc[scenario_df['step'].between(steps[0], steps[1])]\n",
    "        # get feature importance\n",
    "        fi_df = get_feature_importance(model, train_df)\n",
    "        fi_df = fi_df.rename(columns={'importance': f'importance_{i}'})\n",
    "        scenario_fi_df = scenario_fi_df.join(fi_df.set_index('feature'), how='left')\n",
    "    df_lst.append(scenario_fi_df.reset_index())\n",
    "\n",
    "importance_df = pd.concat(df_lst, ignore_index=True)\n",
    "importance_df['importance_diff'] = importance_df['importance_1'] - importance_df['importance_0']\n",
    "importance_df.head()"
   ]
  },
  {
   "cell_type": "code",
   "execution_count": 30,
   "metadata": {},
   "outputs": [
    {
     "data": {
      "application/vnd.plotly.v1+json": {
       "config": {
        "plotlyServerURL": "https://plot.ly"
       },
       "data": [
        {
         "alignmentgroup": "True",
         "hovertemplate": "scenario=%{x}<br>importance_diff=%{y}<extra></extra>",
         "legendgroup": "",
         "marker": {
          "color": "#636efa"
         },
         "name": "",
         "notched": false,
         "offsetgroup": "",
         "orientation": "v",
         "showlegend": false,
         "type": "box",
         "x": [
          "Distribution Drift",
          "Distribution Drift",
          "Distribution Drift",
          "Distribution Drift",
          "Distribution Drift",
          "Distribution Drift",
          "Distribution Drift",
          "Distribution Drift",
          "Distribution Drift",
          "Distribution Drift",
          "Distribution Drift",
          "Distribution Drift",
          "Distribution Drift",
          "Distribution Drift",
          "Distribution Drift",
          "Distribution Drift",
          "Distribution Drift",
          "Distribution Drift",
          "Distribution Drift",
          "Distribution Drift",
          "Distribution Drift",
          "Distribution Drift",
          "Distribution Drift",
          "Distribution Drift",
          "Distribution Drift",
          "Distribution Drift",
          "Distribution Drift",
          "Distribution Drift",
          "Distribution Drift",
          "Distribution Drift",
          "Distribution Drift",
          "Distribution Drift",
          "Distribution Drift",
          "Distribution Drift",
          "Distribution Drift",
          "Distribution Drift",
          "Distribution Drift",
          "Distribution Drift",
          "Distribution Drift",
          "Distribution Drift",
          "Distribution Drift",
          "Distribution Drift",
          "Distribution Drift",
          "Distribution Drift",
          "Distribution Drift",
          "Distribution Drift",
          "Distribution Drift",
          "Distribution Drift",
          "Distribution Drift",
          "Distribution Drift",
          "Linear Coefficients",
          "Linear Coefficients",
          "Linear Coefficients",
          "Linear Coefficients",
          "Linear Coefficients",
          "Linear Coefficients",
          "Linear Coefficients",
          "Linear Coefficients",
          "Linear Coefficients",
          "Linear Coefficients",
          "Linear Coefficients",
          "Linear Coefficients",
          "Linear Coefficients",
          "Linear Coefficients",
          "Linear Coefficients",
          "Linear Coefficients",
          "Linear Coefficients",
          "Linear Coefficients",
          "Linear Coefficients",
          "Linear Coefficients",
          "Linear Coefficients",
          "Linear Coefficients",
          "Linear Coefficients",
          "Linear Coefficients",
          "Linear Coefficients",
          "Linear Coefficients",
          "Linear Coefficients",
          "Linear Coefficients",
          "Linear Coefficients",
          "Linear Coefficients",
          "Linear Coefficients",
          "Linear Coefficients",
          "Linear Coefficients",
          "Linear Coefficients",
          "Linear Coefficients",
          "Linear Coefficients",
          "Linear Coefficients",
          "Linear Coefficients",
          "Linear Coefficients",
          "Linear Coefficients",
          "Linear Coefficients",
          "Linear Coefficients",
          "Linear Coefficients",
          "Linear Coefficients",
          "Linear Coefficients",
          "Linear Coefficients",
          "Linear Coefficients",
          "Linear Coefficients",
          "Linear Coefficients",
          "Linear Coefficients"
         ],
         "x0": " ",
         "xaxis": "x",
         "y": [
          -0.0008344163652509451,
          -0.011262256652116776,
          0.0037476401776075363,
          0.06887884438037872,
          0.0006802085554227233,
          -0.004507709294557571,
          -0.006918415427207947,
          -0.011817723512649536,
          0.0014073769561946392,
          0.015501439571380615,
          0.0015930233057588339,
          0.0009121368639171124,
          -0.0026827706024050713,
          -0.004435463342815638,
          -0.0020477930083870888,
          -0.026457205414772034,
          -0.004496516659855843,
          -0.002463746350258589,
          -0.00008453475311398506,
          0.002543567679822445,
          -0.0038622133433818817,
          0.003326239064335823,
          0.0016582052921876311,
          -0.004946485161781311,
          -0.0029185533057898283,
          0.004818279296159744,
          -0.008489116095006466,
          -0.000056926626712083817,
          0.0006858357228338718,
          0.004085834138095379,
          0.002416504081338644,
          0.000510193407535553,
          -0.0008389907889068127,
          -0.0031931386329233646,
          -0.0000323709100484848,
          -0.0033242362551391125,
          0.0011799631174653769,
          0.0012485128827393055,
          -0.0026775412261486053,
          0.0037632985040545464,
          -0.001227585249580443,
          0.004869131371378899,
          0.00021067913621664047,
          -0.005704574286937714,
          0.0027888580225408077,
          -0.004321647807955742,
          -0.003069174475967884,
          -0.0015993248671293259,
          -0.006285163573920727,
          0.0037299590185284615,
          -0.00032009975984692574,
          0.01355786994099617,
          0.0010704593732953072,
          0.011580966413021088,
          0.018611965700984,
          -0.005124004557728767,
          0.012463824823498726,
          -0.02213776856660843,
          -0.04959217831492424,
          -0.037977248430252075,
          0.006190747022628784,
          0.002849952084943652,
          0.0056527480483055115,
          0.035537272691726685,
          -0.0011293836869299412,
          0.032272908836603165,
          0.009797299280762672,
          -0.005860164761543274,
          -0.007026857230812311,
          -0.0047411127015948296,
          0.007423068396747112,
          -0.0025233468040823936,
          -0.010700700804591179,
          0.042912039905786514,
          -0.0003011818043887615,
          -0.0003785891458392143,
          0.004461600445210934,
          -0.010619334876537323,
          -0.002589513547718525,
          -0.020419267937541008,
          -0.00484068738296628,
          -0.004133874550461769,
          0.004673202056437731,
          -0.004283294081687927,
          0.0015035704709589481,
          -0.0020125985611230135,
          -0.0051572080701589584,
          -0.002042677951976657,
          0.001326913945376873,
          0.002864318899810314,
          0.001006007893010974,
          0.000972498208284378,
          0.007789077237248421,
          -0.009511318057775497,
          -0.005204600747674704,
          -0.00020808540284633636,
          0.00333069427870214,
          -0.013902034610509872,
          0.006381415296345949,
          -0.001493457704782486
         ],
         "y0": " ",
         "yaxis": "y"
        }
       ],
       "layout": {
        "boxmode": "group",
        "legend": {
         "tracegroupgap": 0
        },
        "template": {
         "data": {
          "bar": [
           {
            "error_x": {
             "color": "#2a3f5f"
            },
            "error_y": {
             "color": "#2a3f5f"
            },
            "marker": {
             "line": {
              "color": "#E5ECF6",
              "width": 0.5
             },
             "pattern": {
              "fillmode": "overlay",
              "size": 10,
              "solidity": 0.2
             }
            },
            "type": "bar"
           }
          ],
          "barpolar": [
           {
            "marker": {
             "line": {
              "color": "#E5ECF6",
              "width": 0.5
             },
             "pattern": {
              "fillmode": "overlay",
              "size": 10,
              "solidity": 0.2
             }
            },
            "type": "barpolar"
           }
          ],
          "carpet": [
           {
            "aaxis": {
             "endlinecolor": "#2a3f5f",
             "gridcolor": "white",
             "linecolor": "white",
             "minorgridcolor": "white",
             "startlinecolor": "#2a3f5f"
            },
            "baxis": {
             "endlinecolor": "#2a3f5f",
             "gridcolor": "white",
             "linecolor": "white",
             "minorgridcolor": "white",
             "startlinecolor": "#2a3f5f"
            },
            "type": "carpet"
           }
          ],
          "choropleth": [
           {
            "colorbar": {
             "outlinewidth": 0,
             "ticks": ""
            },
            "type": "choropleth"
           }
          ],
          "contour": [
           {
            "colorbar": {
             "outlinewidth": 0,
             "ticks": ""
            },
            "colorscale": [
             [
              0,
              "#0d0887"
             ],
             [
              0.1111111111111111,
              "#46039f"
             ],
             [
              0.2222222222222222,
              "#7201a8"
             ],
             [
              0.3333333333333333,
              "#9c179e"
             ],
             [
              0.4444444444444444,
              "#bd3786"
             ],
             [
              0.5555555555555556,
              "#d8576b"
             ],
             [
              0.6666666666666666,
              "#ed7953"
             ],
             [
              0.7777777777777778,
              "#fb9f3a"
             ],
             [
              0.8888888888888888,
              "#fdca26"
             ],
             [
              1,
              "#f0f921"
             ]
            ],
            "type": "contour"
           }
          ],
          "contourcarpet": [
           {
            "colorbar": {
             "outlinewidth": 0,
             "ticks": ""
            },
            "type": "contourcarpet"
           }
          ],
          "heatmap": [
           {
            "colorbar": {
             "outlinewidth": 0,
             "ticks": ""
            },
            "colorscale": [
             [
              0,
              "#0d0887"
             ],
             [
              0.1111111111111111,
              "#46039f"
             ],
             [
              0.2222222222222222,
              "#7201a8"
             ],
             [
              0.3333333333333333,
              "#9c179e"
             ],
             [
              0.4444444444444444,
              "#bd3786"
             ],
             [
              0.5555555555555556,
              "#d8576b"
             ],
             [
              0.6666666666666666,
              "#ed7953"
             ],
             [
              0.7777777777777778,
              "#fb9f3a"
             ],
             [
              0.8888888888888888,
              "#fdca26"
             ],
             [
              1,
              "#f0f921"
             ]
            ],
            "type": "heatmap"
           }
          ],
          "heatmapgl": [
           {
            "colorbar": {
             "outlinewidth": 0,
             "ticks": ""
            },
            "colorscale": [
             [
              0,
              "#0d0887"
             ],
             [
              0.1111111111111111,
              "#46039f"
             ],
             [
              0.2222222222222222,
              "#7201a8"
             ],
             [
              0.3333333333333333,
              "#9c179e"
             ],
             [
              0.4444444444444444,
              "#bd3786"
             ],
             [
              0.5555555555555556,
              "#d8576b"
             ],
             [
              0.6666666666666666,
              "#ed7953"
             ],
             [
              0.7777777777777778,
              "#fb9f3a"
             ],
             [
              0.8888888888888888,
              "#fdca26"
             ],
             [
              1,
              "#f0f921"
             ]
            ],
            "type": "heatmapgl"
           }
          ],
          "histogram": [
           {
            "marker": {
             "pattern": {
              "fillmode": "overlay",
              "size": 10,
              "solidity": 0.2
             }
            },
            "type": "histogram"
           }
          ],
          "histogram2d": [
           {
            "colorbar": {
             "outlinewidth": 0,
             "ticks": ""
            },
            "colorscale": [
             [
              0,
              "#0d0887"
             ],
             [
              0.1111111111111111,
              "#46039f"
             ],
             [
              0.2222222222222222,
              "#7201a8"
             ],
             [
              0.3333333333333333,
              "#9c179e"
             ],
             [
              0.4444444444444444,
              "#bd3786"
             ],
             [
              0.5555555555555556,
              "#d8576b"
             ],
             [
              0.6666666666666666,
              "#ed7953"
             ],
             [
              0.7777777777777778,
              "#fb9f3a"
             ],
             [
              0.8888888888888888,
              "#fdca26"
             ],
             [
              1,
              "#f0f921"
             ]
            ],
            "type": "histogram2d"
           }
          ],
          "histogram2dcontour": [
           {
            "colorbar": {
             "outlinewidth": 0,
             "ticks": ""
            },
            "colorscale": [
             [
              0,
              "#0d0887"
             ],
             [
              0.1111111111111111,
              "#46039f"
             ],
             [
              0.2222222222222222,
              "#7201a8"
             ],
             [
              0.3333333333333333,
              "#9c179e"
             ],
             [
              0.4444444444444444,
              "#bd3786"
             ],
             [
              0.5555555555555556,
              "#d8576b"
             ],
             [
              0.6666666666666666,
              "#ed7953"
             ],
             [
              0.7777777777777778,
              "#fb9f3a"
             ],
             [
              0.8888888888888888,
              "#fdca26"
             ],
             [
              1,
              "#f0f921"
             ]
            ],
            "type": "histogram2dcontour"
           }
          ],
          "mesh3d": [
           {
            "colorbar": {
             "outlinewidth": 0,
             "ticks": ""
            },
            "type": "mesh3d"
           }
          ],
          "parcoords": [
           {
            "line": {
             "colorbar": {
              "outlinewidth": 0,
              "ticks": ""
             }
            },
            "type": "parcoords"
           }
          ],
          "pie": [
           {
            "automargin": true,
            "type": "pie"
           }
          ],
          "scatter": [
           {
            "fillpattern": {
             "fillmode": "overlay",
             "size": 10,
             "solidity": 0.2
            },
            "type": "scatter"
           }
          ],
          "scatter3d": [
           {
            "line": {
             "colorbar": {
              "outlinewidth": 0,
              "ticks": ""
             }
            },
            "marker": {
             "colorbar": {
              "outlinewidth": 0,
              "ticks": ""
             }
            },
            "type": "scatter3d"
           }
          ],
          "scattercarpet": [
           {
            "marker": {
             "colorbar": {
              "outlinewidth": 0,
              "ticks": ""
             }
            },
            "type": "scattercarpet"
           }
          ],
          "scattergeo": [
           {
            "marker": {
             "colorbar": {
              "outlinewidth": 0,
              "ticks": ""
             }
            },
            "type": "scattergeo"
           }
          ],
          "scattergl": [
           {
            "marker": {
             "colorbar": {
              "outlinewidth": 0,
              "ticks": ""
             }
            },
            "type": "scattergl"
           }
          ],
          "scattermapbox": [
           {
            "marker": {
             "colorbar": {
              "outlinewidth": 0,
              "ticks": ""
             }
            },
            "type": "scattermapbox"
           }
          ],
          "scatterpolar": [
           {
            "marker": {
             "colorbar": {
              "outlinewidth": 0,
              "ticks": ""
             }
            },
            "type": "scatterpolar"
           }
          ],
          "scatterpolargl": [
           {
            "marker": {
             "colorbar": {
              "outlinewidth": 0,
              "ticks": ""
             }
            },
            "type": "scatterpolargl"
           }
          ],
          "scatterternary": [
           {
            "marker": {
             "colorbar": {
              "outlinewidth": 0,
              "ticks": ""
             }
            },
            "type": "scatterternary"
           }
          ],
          "surface": [
           {
            "colorbar": {
             "outlinewidth": 0,
             "ticks": ""
            },
            "colorscale": [
             [
              0,
              "#0d0887"
             ],
             [
              0.1111111111111111,
              "#46039f"
             ],
             [
              0.2222222222222222,
              "#7201a8"
             ],
             [
              0.3333333333333333,
              "#9c179e"
             ],
             [
              0.4444444444444444,
              "#bd3786"
             ],
             [
              0.5555555555555556,
              "#d8576b"
             ],
             [
              0.6666666666666666,
              "#ed7953"
             ],
             [
              0.7777777777777778,
              "#fb9f3a"
             ],
             [
              0.8888888888888888,
              "#fdca26"
             ],
             [
              1,
              "#f0f921"
             ]
            ],
            "type": "surface"
           }
          ],
          "table": [
           {
            "cells": {
             "fill": {
              "color": "#EBF0F8"
             },
             "line": {
              "color": "white"
             }
            },
            "header": {
             "fill": {
              "color": "#C8D4E3"
             },
             "line": {
              "color": "white"
             }
            },
            "type": "table"
           }
          ]
         },
         "layout": {
          "annotationdefaults": {
           "arrowcolor": "#2a3f5f",
           "arrowhead": 0,
           "arrowwidth": 1
          },
          "autotypenumbers": "strict",
          "coloraxis": {
           "colorbar": {
            "outlinewidth": 0,
            "ticks": ""
           }
          },
          "colorscale": {
           "diverging": [
            [
             0,
             "#8e0152"
            ],
            [
             0.1,
             "#c51b7d"
            ],
            [
             0.2,
             "#de77ae"
            ],
            [
             0.3,
             "#f1b6da"
            ],
            [
             0.4,
             "#fde0ef"
            ],
            [
             0.5,
             "#f7f7f7"
            ],
            [
             0.6,
             "#e6f5d0"
            ],
            [
             0.7,
             "#b8e186"
            ],
            [
             0.8,
             "#7fbc41"
            ],
            [
             0.9,
             "#4d9221"
            ],
            [
             1,
             "#276419"
            ]
           ],
           "sequential": [
            [
             0,
             "#0d0887"
            ],
            [
             0.1111111111111111,
             "#46039f"
            ],
            [
             0.2222222222222222,
             "#7201a8"
            ],
            [
             0.3333333333333333,
             "#9c179e"
            ],
            [
             0.4444444444444444,
             "#bd3786"
            ],
            [
             0.5555555555555556,
             "#d8576b"
            ],
            [
             0.6666666666666666,
             "#ed7953"
            ],
            [
             0.7777777777777778,
             "#fb9f3a"
            ],
            [
             0.8888888888888888,
             "#fdca26"
            ],
            [
             1,
             "#f0f921"
            ]
           ],
           "sequentialminus": [
            [
             0,
             "#0d0887"
            ],
            [
             0.1111111111111111,
             "#46039f"
            ],
            [
             0.2222222222222222,
             "#7201a8"
            ],
            [
             0.3333333333333333,
             "#9c179e"
            ],
            [
             0.4444444444444444,
             "#bd3786"
            ],
            [
             0.5555555555555556,
             "#d8576b"
            ],
            [
             0.6666666666666666,
             "#ed7953"
            ],
            [
             0.7777777777777778,
             "#fb9f3a"
            ],
            [
             0.8888888888888888,
             "#fdca26"
            ],
            [
             1,
             "#f0f921"
            ]
           ]
          },
          "colorway": [
           "#636efa",
           "#EF553B",
           "#00cc96",
           "#ab63fa",
           "#FFA15A",
           "#19d3f3",
           "#FF6692",
           "#B6E880",
           "#FF97FF",
           "#FECB52"
          ],
          "font": {
           "color": "#2a3f5f"
          },
          "geo": {
           "bgcolor": "white",
           "lakecolor": "white",
           "landcolor": "#E5ECF6",
           "showlakes": true,
           "showland": true,
           "subunitcolor": "white"
          },
          "hoverlabel": {
           "align": "left"
          },
          "hovermode": "closest",
          "mapbox": {
           "style": "light"
          },
          "paper_bgcolor": "white",
          "plot_bgcolor": "#E5ECF6",
          "polar": {
           "angularaxis": {
            "gridcolor": "white",
            "linecolor": "white",
            "ticks": ""
           },
           "bgcolor": "#E5ECF6",
           "radialaxis": {
            "gridcolor": "white",
            "linecolor": "white",
            "ticks": ""
           }
          },
          "scene": {
           "xaxis": {
            "backgroundcolor": "#E5ECF6",
            "gridcolor": "white",
            "gridwidth": 2,
            "linecolor": "white",
            "showbackground": true,
            "ticks": "",
            "zerolinecolor": "white"
           },
           "yaxis": {
            "backgroundcolor": "#E5ECF6",
            "gridcolor": "white",
            "gridwidth": 2,
            "linecolor": "white",
            "showbackground": true,
            "ticks": "",
            "zerolinecolor": "white"
           },
           "zaxis": {
            "backgroundcolor": "#E5ECF6",
            "gridcolor": "white",
            "gridwidth": 2,
            "linecolor": "white",
            "showbackground": true,
            "ticks": "",
            "zerolinecolor": "white"
           }
          },
          "shapedefaults": {
           "line": {
            "color": "#2a3f5f"
           }
          },
          "ternary": {
           "aaxis": {
            "gridcolor": "white",
            "linecolor": "white",
            "ticks": ""
           },
           "baxis": {
            "gridcolor": "white",
            "linecolor": "white",
            "ticks": ""
           },
           "bgcolor": "#E5ECF6",
           "caxis": {
            "gridcolor": "white",
            "linecolor": "white",
            "ticks": ""
           }
          },
          "title": {
           "x": 0.05
          },
          "xaxis": {
           "automargin": true,
           "gridcolor": "white",
           "linecolor": "white",
           "ticks": "",
           "title": {
            "standoff": 15
           },
           "zerolinecolor": "white",
           "zerolinewidth": 2
          },
          "yaxis": {
           "automargin": true,
           "gridcolor": "white",
           "linecolor": "white",
           "ticks": "",
           "title": {
            "standoff": 15
           },
           "zerolinecolor": "white",
           "zerolinewidth": 2
          }
         }
        },
        "title": {
         "text": "Feature Importance Difference"
        },
        "xaxis": {
         "anchor": "y",
         "domain": [
          0,
          1
         ],
         "title": {
          "text": "Scenario"
         }
        },
        "yaxis": {
         "anchor": "x",
         "domain": [
          0,
          1
         ],
         "title": {
          "text": "Difference"
         }
        }
       }
      }
     },
     "metadata": {},
     "output_type": "display_data"
    }
   ],
   "source": [
    "fig = box(importance_df, x='scenario', y='importance_diff', title='Feature Importance Difference')\n",
    "fig.update_layout(xaxis_title='Scenario', yaxis_title='Difference')\n",
    "fig.show()"
   ]
  },
  {
   "cell_type": "code",
   "execution_count": null,
   "metadata": {},
   "outputs": [],
   "source": []
  }
 ],
 "metadata": {
  "kernelspec": {
   "display_name": "mlmm",
   "language": "python",
   "name": "python3"
  },
  "language_info": {
   "codemirror_mode": {
    "name": "ipython",
    "version": 3
   },
   "file_extension": ".py",
   "mimetype": "text/x-python",
   "name": "python",
   "nbconvert_exporter": "python",
   "pygments_lexer": "ipython3",
   "version": "3.12.4"
  }
 },
 "nbformat": 4,
 "nbformat_minor": 2
}
